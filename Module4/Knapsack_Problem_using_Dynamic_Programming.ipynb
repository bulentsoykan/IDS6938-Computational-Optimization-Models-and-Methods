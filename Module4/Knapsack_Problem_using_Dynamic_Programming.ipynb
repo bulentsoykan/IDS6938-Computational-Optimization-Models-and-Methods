{
  "nbformat": 4,
  "nbformat_minor": 0,
  "metadata": {
    "colab": {
      "provenance": [],
      "authorship_tag": "ABX9TyM5tkOHJxkoW0QdBqPzkhIF",
      "include_colab_link": true
    },
    "kernelspec": {
      "name": "python3",
      "display_name": "Python 3"
    },
    "language_info": {
      "name": "python"
    }
  },
  "cells": [
    {
      "cell_type": "markdown",
      "metadata": {
        "id": "view-in-github",
        "colab_type": "text"
      },
      "source": [
        "<a href=\"https://colab.research.google.com/github/bulentsoykan/IDS6938-Computational-Optimization-Models-and-Methods/blob/main/Knapsack_Problem_using_Dynamic_Programming.ipynb\" target=\"_parent\"><img src=\"https://colab.research.google.com/assets/colab-badge.svg\" alt=\"Open In Colab\"/></a>"
      ]
    },
    {
      "cell_type": "markdown",
      "source": [
        "# Knapsack Problem using Dynamic Programming\n",
        "\n",
        "## Introduction\n",
        "The knapsack problem is a well-known optimization problem. It involves selecting a subset of items, each with a weight and a value, to maximize the total value without exceeding a given weight capacity.\n",
        "\n",
        "## Dynamic Programming Approach\n",
        "We will solve the knapsack problem using a bottom-up dynamic programming approach. This method is efficient and guarantees an optimal solution.\n",
        "\n",
        "## Function Definition\n",
        "The following function `knapsack` takes three arguments:\n",
        "- `values`: a list of integers representing the values of the items\n",
        "- `weights`: a list of integers representing the weights of the items\n",
        "- `capacity`: an integer representing the maximum capacity of the knapsack\n",
        "\n",
        "The function returns the maximum total value that can be accommodated within the knapsack capacity."
      ],
      "metadata": {
        "id": "_83QW6WfSNsg"
      }
    },
    {
      "cell_type": "code",
      "execution_count": 2,
      "metadata": {
        "id": "UMYLsTcESJOO"
      },
      "outputs": [],
      "source": [
        "def knapsack(values, weights, capacity):\n",
        "    try:\n",
        "        # Check for input errors\n",
        "        if len(values) != len(weights):\n",
        "            raise ValueError(\"Length of values and weights must be the same.\")\n",
        "        if capacity < 0:\n",
        "            raise ValueError(\"Capacity must be a non-negative integer.\")\n",
        "\n",
        "        n = len(values)  # Number of items\n",
        "        # Create a 2D DP array to store the maximum value that can be obtained using the first i items and capacity\n",
        "        dp = [[0 for _ in range(capacity + 1)] for _ in range(n + 1)]\n",
        "\n",
        "        # Build the DP table in bottom-up manner\n",
        "        for i in range(1, n + 1):\n",
        "            for w in range(1, capacity + 1):\n",
        "                if weights[i-1] <= w:\n",
        "                    # If the current item can fit in the knapsack, choose the maximum between taking the item and not taking it\n",
        "                    dp[i][w] = max(dp[i-1][w], dp[i-1][w-weights[i-1]] + values[i-1])\n",
        "                else:\n",
        "                    # If the current item cannot fit, do not take it\n",
        "                    dp[i][w] = dp[i-1][w]\n",
        "\n",
        "        # The answer to the problem is in dp[n][capacity], which represents considering all items with the full capacity.\n",
        "        return dp[n][capacity]\n",
        "\n",
        "    except ValueError as ve:\n",
        "        print(f\"Input error: {ve}\")\n",
        "        return None\n",
        "    except Exception as e:\n",
        "        print(f\"An unexpected error occurred: {e}\")\n",
        "        return None"
      ]
    },
    {
      "cell_type": "markdown",
      "source": [
        "## Example Usage\n",
        "\n",
        "Let's test the `knapsack` function with the following example:\n",
        "\n",
        "- `values = [60, 100, 120]`\n",
        "- `weights = [10, 20, 30]`\n",
        "- `capacity = 50`\n",
        "\n",
        "The goal is to determine the maximum value that can be achieved with a knapsack capacity of 50."
      ],
      "metadata": {
        "id": "u_YagFv9SbDH"
      }
    },
    {
      "cell_type": "code",
      "source": [
        "# Example usage\n",
        "values = [60, 100, 120]  # The values of the items\n",
        "weights = [10, 20, 30]  # The weights of the items\n",
        "capacity = 50  # The maximum capacity of the knapsack\n",
        "\n",
        "result = knapsack(values, weights, capacity)\n",
        "if result is not None:\n",
        "    print(\"The maximum total value in the knapsack is:\", result)"
      ],
      "metadata": {
        "colab": {
          "base_uri": "https://localhost:8080/"
        },
        "id": "zBOghts2Seic",
        "outputId": "6ef01425-a9ea-433a-feec-25f20c99583e"
      },
      "execution_count": 3,
      "outputs": [
        {
          "output_type": "stream",
          "name": "stdout",
          "text": [
            "The maximum total value in the knapsack is: 220\n"
          ]
        }
      ]
    },
    {
      "cell_type": "markdown",
      "source": [
        "## Visualization of the DP Table\n",
        "\n",
        "For a better understanding, let's visualize the DP table that was constructed during the execution of the `knapsack` function. This table helps us understand how the solution is built up step by step."
      ],
      "metadata": {
        "id": "MuQVr3svSov-"
      }
    },
    {
      "cell_type": "code",
      "source": [
        "import numpy as np\n",
        "import matplotlib.pyplot as plt\n",
        "\n",
        "# Function to visualize the DP table\n",
        "def visualize_knapsack_dp_table(values, weights, capacity):\n",
        "    n = len(values)\n",
        "    dp = [[0 for _ in range(capacity + 1)] for _ in range(n + 1)]\n",
        "\n",
        "    for i in range(1, n + 1):\n",
        "        for w in range(1, capacity + 1):\n",
        "            if weights[i-1] <= w:\n",
        "                dp[i][w] = max(dp[i-1][w], dp[i-1][w-weights[i-1]] + values[i-1])\n",
        "            else:\n",
        "                dp[i][w] = dp[i-1][w]\n",
        "\n",
        "    # Convert to numpy array for better visualization\n",
        "    dp_array = np.array(dp)\n",
        "    fig, ax = plt.subplots(figsize=(10, 6))\n",
        "    cax = ax.matshow(dp_array, cmap=\"Blues\")\n",
        "    fig.colorbar(cax)\n",
        "    ax.set_xlabel(\"Capacity\")\n",
        "    ax.set_ylabel(\"Items\")\n",
        "    ax.set_title(\"DP Table for Knapsack Problem\")\n",
        "\n",
        "    plt.show()\n",
        "\n",
        "# Visualize the DP table\n",
        "visualize_knapsack_dp_table(values, weights, capacity)"
      ],
      "metadata": {
        "colab": {
          "base_uri": "https://localhost:8080/",
          "height": 507
        },
        "id": "izhFXU9rShiP",
        "outputId": "56448faf-303b-488d-be33-50eb530beef3"
      },
      "execution_count": 6,
      "outputs": [
        {
          "output_type": "display_data",
          "data": {
            "text/plain": [
              "<Figure size 1000x600 with 2 Axes>"
            ],
            "image/png": "[encoded data removed]"
          },
          "metadata": {}
        }
      ]
    }
  ]
}