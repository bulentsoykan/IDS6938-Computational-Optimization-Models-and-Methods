{
  "cells": [
    {
      "cell_type": "markdown",
      "metadata": {
        "id": "view-in-github",
        "colab_type": "text"
      },
      "source": [
        "<a href=\"https://colab.research.google.com/github/bulentsoykan/IDS6938-Computational-Optimization-Models-and-Methods/blob/main/Google_Colab_Intro.ipynb\" target=\"_parent\"><img src=\"https://colab.research.google.com/assets/colab-badge.svg\" alt=\"Open In Colab\"/></a>"
      ]
    },
    {
      "cell_type": "markdown",
      "id": "8a2c93ae-a5e9-44c6-842c-f4c2627e8aa5",
      "metadata": {
        "id": "8a2c93ae-a5e9-44c6-842c-f4c2627e8aa5"
      },
      "source": [
        "<p><img alt=\"Colaboratory logo\" height=\"45px\" src=\"/img/colab_favicon.ico\" align=\"left\" hspace=\"10px\" vspace=\"0px\"></p>\n",
        "\n",
        "# Google Colaboratory! (Computational Optimization Models and Methods)\n",
        "\n",
        "\n",
        "Colaboratory is a free Jupyter notebook environment that requires no setup and runs entirely in the cloud.\n",
        "\n",
        "With Colaboratory you can write and execute code, save and share your analyses, and access powerful computing resources, all for free from your browser."
      ]
    },
    {
      "cell_type": "markdown",
      "source": [
        "## Virtual Machine\n",
        "The most powerful feature of google colab is the ability to use cloud GPU for free. Like the other desktop environment you can also access most of the bash command with a `!` added in the front of the command.\n",
        "\n",
        "At first turn on the GPU from `Runtime`->`Change Runtime Type`->`Hardware Acceleration`\n",
        "\n",
        "The entire colab runs in a cloud VM. Let's investigate the VM. You will see that the current colab notebook is running on top of `Ubuntu 22.04.3 LTS`."
      ],
      "metadata": {
        "id": "JlJ5Zlo4cK0_"
      },
      "id": "JlJ5Zlo4cK0_"
    },
    {
      "cell_type": "code",
      "source": [
        "!cat /etc/*release"
      ],
      "metadata": {
        "colab": {
          "base_uri": "https://localhost:8080/"
        },
        "id": "3eBVavhVcLyh",
        "outputId": "b1fbaaf4-3589-42c4-e209-ab22bbad687f"
      },
      "id": "3eBVavhVcLyh",
      "execution_count": 1,
      "outputs": [
        {
          "output_type": "stream",
          "name": "stdout",
          "text": [
            "DISTRIB_ID=Ubuntu\n",
            "DISTRIB_RELEASE=22.04\n",
            "DISTRIB_CODENAME=jammy\n",
            "DISTRIB_DESCRIPTION=\"Ubuntu 22.04.3 LTS\"\n",
            "PRETTY_NAME=\"Ubuntu 22.04.3 LTS\"\n",
            "NAME=\"Ubuntu\"\n",
            "VERSION_ID=\"22.04\"\n",
            "VERSION=\"22.04.3 LTS (Jammy Jellyfish)\"\n",
            "VERSION_CODENAME=jammy\n",
            "ID=ubuntu\n",
            "ID_LIKE=debian\n",
            "HOME_URL=\"https://www.ubuntu.com/\"\n",
            "SUPPORT_URL=\"https://help.ubuntu.com/\"\n",
            "BUG_REPORT_URL=\"https://bugs.launchpad.net/ubuntu/\"\n",
            "PRIVACY_POLICY_URL=\"https://www.ubuntu.com/legal/terms-and-policies/privacy-policy\"\n",
            "UBUNTU_CODENAME=jammy\n"
          ]
        }
      ]
    },
    {
      "cell_type": "code",
      "source": [
        "!ls -l\n",
        "!pwd"
      ],
      "metadata": {
        "colab": {
          "base_uri": "https://localhost:8080/"
        },
        "id": "qRp7RhGRceoY",
        "outputId": "8be6157a-218f-496a-b1e2-dc46f06c95f9"
      },
      "id": "qRp7RhGRceoY",
      "execution_count": 2,
      "outputs": [
        {
          "output_type": "stream",
          "name": "stdout",
          "text": [
            "total 4\n",
            "drwxr-xr-x 1 root root 4096 May  9 13:24 sample_data\n",
            "/content\n"
          ]
        }
      ]
    },
    {
      "cell_type": "code",
      "source": [
        "from platform import python_version\n",
        "print(\"Python version\", python_version())"
      ],
      "metadata": {
        "colab": {
          "base_uri": "https://localhost:8080/"
        },
        "id": "Kxz3NkpxdnbJ",
        "outputId": "d0425fcb-8bbf-48a9-95c8-28d6230da5de"
      },
      "id": "Kxz3NkpxdnbJ",
      "execution_count": 4,
      "outputs": [
        {
          "output_type": "stream",
          "name": "stdout",
          "text": [
            "Python version 3.10.12\n"
          ]
        }
      ]
    },
    {
      "cell_type": "code",
      "source": [
        "%%bash\n",
        "#Unix hosts only\n",
        "ls"
      ],
      "metadata": {
        "id": "ZYGE5aL5h5to"
      },
      "id": "ZYGE5aL5h5to",
      "execution_count": null,
      "outputs": []
    },
    {
      "cell_type": "markdown",
      "source": [
        "## Data uploading to VM\n",
        "1. From Machine  -- explore the built in left panel of google colab\n",
        "2. From google drive -- explore the built in  left panel  of google colab\n",
        "3. with wget\n",
        "4. with git clone\n"
      ],
      "metadata": {
        "id": "5WEewFoWd36J"
      },
      "id": "5WEewFoWd36J"
    },
    {
      "cell_type": "code",
      "source": [
        "from google.colab import drive\n",
        "drive.mount('/content/drive')"
      ],
      "metadata": {
        "colab": {
          "base_uri": "https://localhost:8080/"
        },
        "id": "WKTFTl5aeDCl",
        "outputId": "9ba2b9a1-b9b6-4648-c7d0-2ec525c914b3"
      },
      "id": "WKTFTl5aeDCl",
      "execution_count": 5,
      "outputs": [
        {
          "output_type": "stream",
          "name": "stdout",
          "text": [
            "Mounted at /content/drive\n"
          ]
        }
      ]
    },
    {
      "cell_type": "code",
      "source": [
        "!wget https://github.com/bulentsoykan/IDS6938-Computational-Optimization-Models-and-Methods/blob/main/k_Nearest_Neighbors_with_Numpy.ipynb"
      ],
      "metadata": {
        "colab": {
          "base_uri": "https://localhost:8080/"
        },
        "id": "rC7gAAgbfBA4",
        "outputId": "07703ae2-4535-43dc-cd8c-0fbf990b93db"
      },
      "id": "rC7gAAgbfBA4",
      "execution_count": 9,
      "outputs": [
        {
          "output_type": "stream",
          "name": "stdout",
          "text": [
            "--2024-05-11 11:45:21--  https://github.com/bulentsoykan/IDS6938-Computational-Optimization-Models-and-Methods/blob/main/k_Nearest_Neighbors_with_Numpy.ipynb\n",
            "Resolving github.com (github.com)... 20.27.177.113\n",
            "Connecting to github.com (github.com)|20.27.177.113|:443... connected.\n",
            "HTTP request sent, awaiting response... 200 OK\n",
            "Length: unspecified [text/html]\n",
            "Saving to: ‘k_Nearest_Neighbors_with_Numpy.ipynb’\n",
            "\n",
            "k_Nearest_Neighbors     [ <=>                ] 210.86K  1.08MB/s    in 0.2s    \n",
            "\n",
            "2024-05-11 11:45:21 (1.08 MB/s) - ‘k_Nearest_Neighbors_with_Numpy.ipynb’ saved [215917]\n",
            "\n"
          ]
        }
      ]
    },
    {
      "cell_type": "code",
      "source": [
        "!git clone https://github.com/bulentsoykan/IDS6938-Computational-Optimization-Models-and-Methods.git"
      ],
      "metadata": {
        "colab": {
          "base_uri": "https://localhost:8080/"
        },
        "id": "J3Bx-vNceuBw",
        "outputId": "5f206f08-b2bb-4f1a-9ca5-592d6c87dc91"
      },
      "id": "J3Bx-vNceuBw",
      "execution_count": 8,
      "outputs": [
        {
          "output_type": "stream",
          "name": "stdout",
          "text": [
            "Cloning into 'IDS6938-Computational-Optimization-Models-and-Methods'...\n",
            "remote: Enumerating objects: 10, done.\u001b[K\n",
            "remote: Counting objects: 100% (10/10), done.\u001b[K\n",
            "remote: Compressing objects: 100% (10/10), done.\u001b[K\n",
            "remote: Total 10 (delta 1), reused 0 (delta 0), pack-reused 0\u001b[K\n",
            "Receiving objects: 100% (10/10), 84.31 KiB | 918.00 KiB/s, done.\n",
            "Resolving deltas: 100% (1/1), done.\n"
          ]
        }
      ]
    },
    {
      "cell_type": "code",
      "source": [
        "!ls -l"
      ],
      "metadata": {
        "colab": {
          "base_uri": "https://localhost:8080/"
        },
        "id": "O-tE4OIHeZSR",
        "outputId": "200e4c1b-927c-4fbc-89c3-cfe04d7fb9a6"
      },
      "id": "O-tE4OIHeZSR",
      "execution_count": 10,
      "outputs": [
        {
          "output_type": "stream",
          "name": "stdout",
          "text": [
            "total 224\n",
            "drwx------ 6 root root   4096 May 11 11:41 drive\n",
            "drwxr-xr-x 3 root root   4096 May 11 11:44 IDS6938-Computational-Optimization-Models-and-Methods\n",
            "-rw-r--r-- 1 root root 215917 May 11 11:45 k_Nearest_Neighbors_with_Numpy.ipynb\n",
            "drwxr-xr-x 1 root root   4096 May  9 13:24 sample_data\n"
          ]
        }
      ]
    },
    {
      "cell_type": "markdown",
      "source": [
        "## Getting Started\n",
        "\n",
        "The document you are reading is a  [Jupyter notebook](https://jupyter.org/), hosted in Colaboratory. It is not a static page, but an interactive environment that lets you write and execute code in Python and other languages.\n",
        "\n",
        "For example, here is a **code cell** with a short Python script that computes a value, stores it in a variable, and prints the result:"
      ],
      "metadata": {
        "id": "nfoH7L9pgNZK"
      },
      "id": "nfoH7L9pgNZK"
    },
    {
      "cell_type": "markdown",
      "id": "404a5417-dc7e-4d8a-b7c3-e2449c837de9",
      "metadata": {
        "editable": true,
        "tags": [],
        "id": "404a5417-dc7e-4d8a-b7c3-e2449c837de9"
      },
      "source": [
        "To execute the code in the above cell, select it with a click and then either press the play  <kbd>&#9654;</kbd> button to the left of the code, or use the keyboard shortcut <kbd>Command/Ctrl</kbd> + <kbd>return</kbd>."
      ]
    },
    {
      "cell_type": "code",
      "execution_count": 1,
      "id": "3523a4d4-e992-4a0e-b7de-976bf5812f1b",
      "metadata": {
        "editable": true,
        "tags": [],
        "colab": {
          "base_uri": "https://localhost:8080/"
        },
        "id": "3523a4d4-e992-4a0e-b7de-976bf5812f1b",
        "outputId": "40b56c7f-2894-4b68-9371-23291bb80e1b"
      },
      "outputs": [
        {
          "output_type": "execute_result",
          "data": {
            "text/plain": [
              "4"
            ]
          },
          "metadata": {},
          "execution_count": 1
        }
      ],
      "source": [
        "2 + 2"
      ]
    },
    {
      "cell_type": "markdown",
      "id": "6e053b80-9658-44ff-b050-49086aabcd08",
      "metadata": {
        "editable": true,
        "tags": [],
        "id": "6e053b80-9658-44ff-b050-49086aabcd08"
      },
      "source": [
        "### Markdown Cells\n",
        "Markdown cells support a range of formatting options via [Markdown](https://daringfireball.net/projects/markdown/) and html5\n",
        "\n",
        "- *italics*\n",
        "- **bold**\n",
        "- `code`\n",
        "- [links](https://jupyterlab.readthedocs.io/)\n",
        "- Inline LaTeX equations: $E = mc^{2}$\n",
        "\n",
        "\n",
        "\\begin{equation}\n",
        "e^x=\\sum_{i=0}^\\infty \\frac{1}{i!}x^i\n",
        "\\end{equation}"
      ]
    },
    {
      "cell_type": "markdown",
      "id": "a86ef896-2912-4130-b810-9d3d29251354",
      "metadata": {
        "editable": true,
        "tags": [],
        "id": "a86ef896-2912-4130-b810-9d3d29251354"
      },
      "source": [
        "### Hierarchical Organization\n",
        "\n",
        "Markdown supports six levels of headers to organize your document. Headers are text preceded by one to six hash symbols. The more hash symbols, the lower the level.\n",
        "\n",
        "The outline pane on the left side shows the document outline and permits quick navigation.\n"
      ]
    },
    {
      "cell_type": "markdown",
      "id": "fa6919a2-da1c-4d71-a057-947f79935540",
      "metadata": {
        "id": "fa6919a2-da1c-4d71-a057-947f79935540"
      },
      "source": [
        "### Edit Multiple Cursors"
      ]
    },
    {
      "cell_type": "markdown",
      "id": "59b6099f-ee90-4b6d-9b84-6cef39705ca2",
      "metadata": {
        "editable": true,
        "tags": [],
        "id": "59b6099f-ee90-4b6d-9b84-6cef39705ca2"
      },
      "source": [
        "Sometimes, you need to edit several places at once. Press command (macOS) or Alt (Windows) and click to place additional cursors."
      ]
    },
    {
      "cell_type": "code",
      "execution_count": 3,
      "id": "4693846f-bfa9-4e8e-b424-52ce45505cc2",
      "metadata": {
        "lines_to_next_cell": 2,
        "colab": {
          "base_uri": "https://localhost:8080/",
          "height": 193
        },
        "id": "4693846f-bfa9-4e8e-b424-52ce45505cc2",
        "outputId": "410c0aa9-ac64-478f-eb44-b1026a94e144"
      },
      "outputs": [
        {
          "output_type": "error",
          "ename": "NameError",
          "evalue": "name 'dd' is not defined",
          "traceback": [
            "\u001b[0;31m---------------------------------------------------------------------------\u001b[0m",
            "\u001b[0;31mNameError\u001b[0m                                 Traceback (most recent call last)",
            "\u001b[0;32m<ipython-input-3-882eccbe2529>\u001b[0m in \u001b[0;36m<cell line: 2>\u001b[0;34m()\u001b[0m\n\u001b[1;32m      1\u001b[0m \u001b[0;31m# Change the 4 \"dd\"s to \"gg\"\u001b[0m\u001b[0;34m\u001b[0m\u001b[0;34m\u001b[0m\u001b[0m\n\u001b[0;32m----> 2\u001b[0;31m \u001b[0;34m+\u001b[0m \u001b[0mdd\u001b[0m\u001b[0;34m.\u001b[0m\u001b[0mtheme_bw\u001b[0m\u001b[0;34m(\u001b[0m\u001b[0;34m)\u001b[0m\u001b[0;34m\u001b[0m\u001b[0;34m\u001b[0m\u001b[0m\n\u001b[0m\u001b[1;32m      3\u001b[0m \u001b[0;34m+\u001b[0m \u001b[0mdd\u001b[0m\u001b[0;34m.\u001b[0m\u001b[0mtheme\u001b[0m\u001b[0;34m(\u001b[0m\u001b[0mfigure_size\u001b[0m\u001b[0;34m=\u001b[0m\u001b[0;34m(\u001b[0m\u001b[0;36m10\u001b[0m\u001b[0;34m,\u001b[0m\u001b[0;36m6\u001b[0m\u001b[0;34m)\u001b[0m\u001b[0;34m)\u001b[0m\u001b[0;34m\u001b[0m\u001b[0;34m\u001b[0m\u001b[0m\n\u001b[1;32m      4\u001b[0m \u001b[0;34m+\u001b[0m \u001b[0mdd\u001b[0m\u001b[0;34m.\u001b[0m\u001b[0mtheme\u001b[0m\u001b[0;34m(\u001b[0m\u001b[0maxis_text_x\u001b[0m\u001b[0;34m=\u001b[0m\u001b[0mdd\u001b[0m\u001b[0;34m.\u001b[0m\u001b[0melement_text\u001b[0m\u001b[0;34m(\u001b[0m\u001b[0mangle\u001b[0m\u001b[0;34m=\u001b[0m\u001b[0;36m30\u001b[0m\u001b[0;34m,\u001b[0m \u001b[0mhjust\u001b[0m\u001b[0;34m=\u001b[0m\u001b[0;36m1\u001b[0m\u001b[0;34m)\u001b[0m\u001b[0;34m)\u001b[0m\u001b[0;34m\u001b[0m\u001b[0;34m\u001b[0m\u001b[0m\n",
            "\u001b[0;31mNameError\u001b[0m: name 'dd' is not defined"
          ]
        }
      ],
      "source": [
        "# Change the 4 \"dd\"s to \"gg\"\n",
        "+ dd.theme_bw()\n",
        "+ dd.theme(figure_size=(10,6))\n",
        "+ dd.theme(axis_text_x=dd.element_text(angle=30, hjust=1))"
      ]
    },
    {
      "cell_type": "markdown",
      "id": "600f561c-2606-42b8-bb26-ca8413dbaaf6",
      "metadata": {
        "id": "600f561c-2606-42b8-bb26-ca8413dbaaf6"
      },
      "source": [
        "---"
      ]
    },
    {
      "cell_type": "markdown",
      "id": "e8f185b8-c267-41bf-98a7-2f8eb6b7b07d",
      "metadata": {
        "id": "e8f185b8-c267-41bf-98a7-2f8eb6b7b07d"
      },
      "source": [
        "### TQDM\n",
        "\n",
        "A popular progress bar tool integrated with many data science packages."
      ]
    },
    {
      "cell_type": "code",
      "execution_count": 13,
      "id": "d16ead9b-7283-4f5f-8139-d3d4a7b18ab1",
      "metadata": {
        "editable": true,
        "tags": [
          "active-ipynb"
        ],
        "id": "d16ead9b-7283-4f5f-8139-d3d4a7b18ab1"
      },
      "outputs": [],
      "source": [
        "from tqdm.notebook import tqdm"
      ]
    },
    {
      "cell_type": "code",
      "execution_count": 14,
      "id": "bab17d53-6305-4bb5-a037-ba15227fb18e",
      "metadata": {
        "editable": true,
        "tags": [],
        "colab": {
          "base_uri": "https://localhost:8080/",
          "height": 49,
          "referenced_widgets": [
            "8fb5cf6e980d4efab16cc34fd5b94ff6",
            "0e5e7446a502442ea96c02ddeb1605a9",
            "6458112a1e3a4d7188d6d45e30c34bc6",
            "5076df56181146c3ba1881b3d87f95d8",
            "a19317d5b3e64483a87db6160ebf467a",
            "e67a58a7e3a1472493d73d3687d6c89c",
            "1363df8594694136bb96879b9483509c",
            "a7448ac98f5e478ab7fbbe1ea518eb1e",
            "285fb3e2e3554a29945c4b1ab8ce3fc5",
            "f4ba2069ebc44fcfb4fa244988217a73",
            "882fe878041643ec87a0615c0b7e5aea"
          ]
        },
        "id": "bab17d53-6305-4bb5-a037-ba15227fb18e",
        "outputId": "43cedc56-42cc-488a-be1b-b7d0bc39c20c"
      },
      "outputs": [
        {
          "output_type": "display_data",
          "data": {
            "text/plain": [
              "  0%|          | 0/20 [00:00<?, ?it/s]"
            ],
            "application/vnd.jupyter.widget-view+json": {
              "version_major": 2,
              "version_minor": 0,
              "model_id": "8fb5cf6e980d4efab16cc34fd5b94ff6"
            }
          },
          "metadata": {}
        }
      ],
      "source": [
        "import time\n",
        "\n",
        "for i in tqdm(range(20)):\n",
        "    time.sleep(.5)"
      ]
    },
    {
      "cell_type": "markdown",
      "id": "1ea191cc-e686-4ded-adc6-3acc08a7b3d0",
      "metadata": {
        "editable": true,
        "tags": [],
        "id": "1ea191cc-e686-4ded-adc6-3acc08a7b3d0"
      },
      "source": [
        "### Time and Timeit cell magics"
      ]
    },
    {
      "cell_type": "code",
      "execution_count": 15,
      "id": "ba216638-6545-480a-8047-1106ad9c24c3",
      "metadata": {
        "editable": true,
        "tags": [],
        "colab": {
          "base_uri": "https://localhost:8080/",
          "height": 84,
          "referenced_widgets": [
            "6264439356254bda9d146a3dc29db2a5",
            "4a60caaa22024bb4bbb50aec0a97120e",
            "0d8cca54eca744d0ad01ed4cd0a09643",
            "f7b5f2114db84cb7973d0cf4e3f614c8",
            "9c6c0e6fbf544d7ebf4c3d3d9521c3ca",
            "1fc6e6a0a3434cd3b51836bcea8922b3",
            "85e7ad5e7bf24e5f904f86bf2cf5f1d3",
            "47e38799bae44278abde8d99c98225d9",
            "45255bbaa1e94d1c9047f2fcce251aa2",
            "9672aefebb7a478b9261b4a7a27fc4c5",
            "cabe051cc89e4aaf98ff66e9e06e227f"
          ]
        },
        "id": "ba216638-6545-480a-8047-1106ad9c24c3",
        "outputId": "e3e484d7-7c4e-4846-da70-b1aa225996e3"
      },
      "outputs": [
        {
          "output_type": "display_data",
          "data": {
            "text/plain": [
              "  0%|          | 0/20 [00:00<?, ?it/s]"
            ],
            "application/vnd.jupyter.widget-view+json": {
              "version_major": 2,
              "version_minor": 0,
              "model_id": "6264439356254bda9d146a3dc29db2a5"
            }
          },
          "metadata": {}
        },
        {
          "output_type": "stream",
          "name": "stdout",
          "text": [
            "CPU times: user 99.8 ms, sys: 8.21 ms, total: 108 ms\n",
            "Wall time: 10 s\n"
          ]
        }
      ],
      "source": [
        "%%time\n",
        "for i in tqdm(range(20)):\n",
        "    time.sleep(.5)"
      ]
    },
    {
      "cell_type": "code",
      "execution_count": 16,
      "id": "10f48232-00db-4e84-b9a0-d81d31098bde",
      "metadata": {
        "colab": {
          "base_uri": "https://localhost:8080/"
        },
        "id": "10f48232-00db-4e84-b9a0-d81d31098bde",
        "outputId": "85acb1c0-1d0d-45c3-a214-362bfa7dbf15"
      },
      "outputs": [
        {
          "output_type": "stream",
          "name": "stdout",
          "text": [
            "3.42 ms ± 180 µs per loop (mean ± std. dev. of 7 runs, 100 loops each)\n"
          ]
        }
      ],
      "source": [
        "%%timeit\n",
        "sum(x**2 for x in range(1,100000,10))"
      ]
    },
    {
      "cell_type": "markdown",
      "id": "073c4bac-042c-45dc-b6fd-52f84627386c",
      "metadata": {
        "id": "073c4bac-042c-45dc-b6fd-52f84627386c"
      },
      "source": [
        "### Jupyter Widgets\n",
        "\n",
        "Widgets are a collection of simple interactive elements that can be used to create a GUI in Jupyter.\n",
        "\n",
        "Uses:\n",
        "\n",
        "- enhance teaching and communication\n",
        "- support specialized interactive data analysis\n",
        "- create simple interfaces for human coding tasks like tagging, sorting, ranking or classifying.  \n",
        "\n",
        "\n",
        "https://ipywidgets.readthedocs.io/en/stable/"
      ]
    },
    {
      "cell_type": "code",
      "execution_count": 27,
      "id": "6e36dd9c-3864-4a35-b846-77eb6b0d134b",
      "metadata": {
        "id": "6e36dd9c-3864-4a35-b846-77eb6b0d134b"
      },
      "outputs": [],
      "source": [
        "%pip install -q ipywidgets"
      ]
    },
    {
      "cell_type": "code",
      "source": [
        "from ipywidgets import interact"
      ],
      "metadata": {
        "id": "uVLnGj09kUB4"
      },
      "id": "uVLnGj09kUB4",
      "execution_count": 28,
      "outputs": []
    },
    {
      "cell_type": "code",
      "source": [
        "%matplotlib inline\n",
        "import matplotlib.pyplot as plt"
      ],
      "metadata": {
        "id": "OPHqabaal9sw"
      },
      "id": "OPHqabaal9sw",
      "execution_count": 29,
      "outputs": []
    },
    {
      "cell_type": "code",
      "source": [
        "import networkx as nx"
      ],
      "metadata": {
        "id": "aYGeWJ1Gl_TA"
      },
      "id": "aYGeWJ1Gl_TA",
      "execution_count": 30,
      "outputs": []
    },
    {
      "cell_type": "code",
      "source": [
        "# wrap a few graph generation functions so they have the same signature\n",
        "\n",
        "def random_lobster(n, m, k, p):\n",
        "    return nx.random_lobster(n, p, p / m)\n",
        "\n",
        "def powerlaw_cluster(n, m, k, p):\n",
        "    return nx.powerlaw_cluster_graph(n, m, p)\n",
        "\n",
        "def erdos_renyi(n, m, k, p):\n",
        "    return nx.erdos_renyi_graph(n, p)\n",
        "\n",
        "def newman_watts_strogatz(n, m, k, p):\n",
        "    return nx.newman_watts_strogatz_graph(n, k, p)\n",
        "\n",
        "def plot_random_graph(n, m, k, p, generator):\n",
        "    g = generator(n, m, k, p)\n",
        "    nx.draw(g)\n",
        "    plt.show()"
      ],
      "metadata": {
        "id": "YQFdE3cdmAhg"
      },
      "id": "YQFdE3cdmAhg",
      "execution_count": 25,
      "outputs": []
    },
    {
      "cell_type": "code",
      "source": [
        "interact(plot_random_graph, n=(2,30), m=(1,10), k=(1,10), p=(0.0, 0.99, 0.001),\n",
        "         generator=[\n",
        "             ('lobster', random_lobster),\n",
        "             ('power law', powerlaw_cluster),\n",
        "             ('Newman-Watts-Strogatz', newman_watts_strogatz),\n",
        "             (u'Erdős-Rényi', erdos_renyi),\n",
        "         ]);"
      ],
      "metadata": {
        "colab": {
          "base_uri": "https://localhost:8080/",
          "height": 676,
          "referenced_widgets": [
            "d19df0572d3841f1a9861730035e4e6c",
            "2edc9dda720f45ffb1b81172ef765f08",
            "3e4edd27b7ab434883fc19cff396b7a8",
            "6bebe1d905cf4bc19b2d7c91b437a34b",
            "52b239a0aa8b44a392b22558100b7c4b",
            "6cb88d1843304d75a63f8fed7f303939",
            "fa15807f37514abe9bb9f95d96ddace8",
            "8a6368726dbe4ca8951c64e694c5af15",
            "1196dc2cf38c4c63bb0d3c7bf36d5e4c",
            "1f366dba08b645b0a5d05783dab08f5d",
            "98cd15c38b4d4faface6d664c13e68d6",
            "21d7e2b1dc48466b99533171fe6692ec",
            "a06a723c90f64015b9ed9980ef12e596",
            "c1918a0a09ed4a12948c25aa881a59c2",
            "b4b7ed67e22b4774940b1af30c8d8578",
            "d1bbb5dc06654ac88043390960c992bc",
            "a7402ce1b26a4633a0e30d82dfb380df",
            "d419fe233819432f8ed844a7b326abef",
            "e3da29d26e4f418f907d1a77bc5426cd"
          ]
        },
        "id": "rgWXi_RXmCWw",
        "outputId": "7df9cd55-0cb1-4370-89ee-40d4f7d92d72"
      },
      "id": "rgWXi_RXmCWw",
      "execution_count": 26,
      "outputs": [
        {
          "output_type": "display_data",
          "data": {
            "text/plain": [
              "interactive(children=(IntSlider(value=16, description='n', max=30, min=2), IntSlider(value=5, description='m',…"
            ],
            "application/vnd.jupyter.widget-view+json": {
              "version_major": 2,
              "version_minor": 0,
              "model_id": "d19df0572d3841f1a9861730035e4e6c"
            }
          },
          "metadata": {}
        }
      ]
    }
  ],
  "metadata": {
    "jupytext": {
      "formats": "ipynb,py:light"
    },
    "kernelspec": {
      "display_name": "Python 3 (ipykernel)",
      "language": "python",
      "name": "python3"
    },
    "language_info": {
      "codemirror_mode": {
        "name": "ipython",
        "version": 3
      },
      "file_extension": ".py",
      "mimetype": "text/x-python",
      "name": "python",
      "nbconvert_exporter": "python",
      "pygments_lexer": "ipython3",
      "version": "3.10.12"
    },
    "toc-autonumbering": false,
    "toc-showcode": false,
    "toc-showmarkdowntxt": false,
    "toc-showtags": false,
    "colab": {
      "provenance": [],
      "toc_visible": true,
      "include_colab_link": true
    },
    "widgets": {
      "application/vnd.jupyter.widget-state+json": {
        "8fb5cf6e980d4efab16cc34fd5b94ff6": {
          "model_module": "@jupyter-widgets/controls",
          "model_name": "HBoxModel",
          "model_module_version": "1.5.0",
          "state": {
            "_dom_classes": [],
            "_model_module": "@jupyter-widgets/controls",
            "_model_module_version": "1.5.0",
            "_model_name": "HBoxModel",
            "_view_count": null,
            "_view_module": "@jupyter-widgets/controls",
            "_view_module_version": "1.5.0",
            "_view_name": "HBoxView",
            "box_style": "",
            "children": [
              "IPY_MODEL_0e5e7446a502442ea96c02ddeb1605a9",
              "IPY_MODEL_6458112a1e3a4d7188d6d45e30c34bc6",
              "IPY_MODEL_5076df56181146c3ba1881b3d87f95d8"
            ],
            "layout": "IPY_MODEL_a19317d5b3e64483a87db6160ebf467a"
          }
        },
        "0e5e7446a502442ea96c02ddeb1605a9": {
          "model_module": "@jupyter-widgets/controls",
          "model_name": "HTMLModel",
          "model_module_version": "1.5.0",
          "state": {
            "_dom_classes": [],
            "_model_module": "@jupyter-widgets/controls",
            "_model_module_version": "1.5.0",
            "_model_name": "HTMLModel",
            "_view_count": null,
            "_view_module": "@jupyter-widgets/controls",
            "_view_module_version": "1.5.0",
            "_view_name": "HTMLView",
            "description": "",
            "description_tooltip": null,
            "layout": "IPY_MODEL_e67a58a7e3a1472493d73d3687d6c89c",
            "placeholder": "​",
            "style": "IPY_MODEL_1363df8594694136bb96879b9483509c",
            "value": "100%"
          }
        },
        "6458112a1e3a4d7188d6d45e30c34bc6": {
          "model_module": "@jupyter-widgets/controls",
          "model_name": "FloatProgressModel",
          "model_module_version": "1.5.0",
          "state": {
            "_dom_classes": [],
            "_model_module": "@jupyter-widgets/controls",
            "_model_module_version": "1.5.0",
            "_model_name": "FloatProgressModel",
            "_view_count": null,
            "_view_module": "@jupyter-widgets/controls",
            "_view_module_version": "1.5.0",
            "_view_name": "ProgressView",
            "bar_style": "success",
            "description": "",
            "description_tooltip": null,
            "layout": "IPY_MODEL_a7448ac98f5e478ab7fbbe1ea518eb1e",
            "max": 20,
            "min": 0,
            "orientation": "horizontal",
            "style": "IPY_MODEL_285fb3e2e3554a29945c4b1ab8ce3fc5",
            "value": 20
          }
        },
        "5076df56181146c3ba1881b3d87f95d8": {
          "model_module": "@jupyter-widgets/controls",
          "model_name": "HTMLModel",
          "model_module_version": "1.5.0",
          "state": {
            "_dom_classes": [],
            "_model_module": "@jupyter-widgets/controls",
            "_model_module_version": "1.5.0",
            "_model_name": "HTMLModel",
            "_view_count": null,
            "_view_module": "@jupyter-widgets/controls",
            "_view_module_version": "1.5.0",
            "_view_name": "HTMLView",
            "description": "",
            "description_tooltip": null,
            "layout": "IPY_MODEL_f4ba2069ebc44fcfb4fa244988217a73",
            "placeholder": "​",
            "style": "IPY_MODEL_882fe878041643ec87a0615c0b7e5aea",
            "value": " 20/20 [00:10&lt;00:00,  1.99it/s]"
          }
        },
        "a19317d5b3e64483a87db6160ebf467a": {
          "model_module": "@jupyter-widgets/base",
          "model_name": "LayoutModel",
          "model_module_version": "1.2.0",
          "state": {
            "_model_module": "@jupyter-widgets/base",
            "_model_module_version": "1.2.0",
            "_model_name": "LayoutModel",
            "_view_count": null,
            "_view_module": "@jupyter-widgets/base",
            "_view_module_version": "1.2.0",
            "_view_name": "LayoutView",
            "align_content": null,
            "align_items": null,
            "align_self": null,
            "border": null,
            "bottom": null,
            "display": null,
            "flex": null,
            "flex_flow": null,
            "grid_area": null,
            "grid_auto_columns": null,
            "grid_auto_flow": null,
            "grid_auto_rows": null,
            "grid_column": null,
            "grid_gap": null,
            "grid_row": null,
            "grid_template_areas": null,
            "grid_template_columns": null,
            "grid_template_rows": null,
            "height": null,
            "justify_content": null,
            "justify_items": null,
            "left": null,
            "margin": null,
            "max_height": null,
            "max_width": null,
            "min_height": null,
            "min_width": null,
            "object_fit": null,
            "object_position": null,
            "order": null,
            "overflow": null,
            "overflow_x": null,
            "overflow_y": null,
            "padding": null,
            "right": null,
            "top": null,
            "visibility": null,
            "width": null
          }
        },
        "e67a58a7e3a1472493d73d3687d6c89c": {
          "model_module": "@jupyter-widgets/base",
          "model_name": "LayoutModel",
          "model_module_version": "1.2.0",
          "state": {
            "_model_module": "@jupyter-widgets/base",
            "_model_module_version": "1.2.0",
            "_model_name": "LayoutModel",
            "_view_count": null,
            "_view_module": "@jupyter-widgets/base",
            "_view_module_version": "1.2.0",
            "_view_name": "LayoutView",
            "align_content": null,
            "align_items": null,
            "align_self": null,
            "border": null,
            "bottom": null,
            "display": null,
            "flex": null,
            "flex_flow": null,
            "grid_area": null,
            "grid_auto_columns": null,
            "grid_auto_flow": null,
            "grid_auto_rows": null,
            "grid_column": null,
            "grid_gap": null,
            "grid_row": null,
            "grid_template_areas": null,
            "grid_template_columns": null,
            "grid_template_rows": null,
            "height": null,
            "justify_content": null,
            "justify_items": null,
            "left": null,
            "margin": null,
            "max_height": null,
            "max_width": null,
            "min_height": null,
            "min_width": null,
            "object_fit": null,
            "object_position": null,
            "order": null,
            "overflow": null,
            "overflow_x": null,
            "overflow_y": null,
            "padding": null,
            "right": null,
            "top": null,
            "visibility": null,
            "width": null
          }
        },
        "1363df8594694136bb96879b9483509c": {
          "model_module": "@jupyter-widgets/controls",
          "model_name": "DescriptionStyleModel",
          "model_module_version": "1.5.0",
          "state": {
            "_model_module": "@jupyter-widgets/controls",
            "_model_module_version": "1.5.0",
            "_model_name": "DescriptionStyleModel",
            "_view_count": null,
            "_view_module": "@jupyter-widgets/base",
            "_view_module_version": "1.2.0",
            "_view_name": "StyleView",
            "description_width": ""
          }
        },
        "a7448ac98f5e478ab7fbbe1ea518eb1e": {
          "model_module": "@jupyter-widgets/base",
          "model_name": "LayoutModel",
          "model_module_version": "1.2.0",
          "state": {
            "_model_module": "@jupyter-widgets/base",
            "_model_module_version": "1.2.0",
            "_model_name": "LayoutModel",
            "_view_count": null,
            "_view_module": "@jupyter-widgets/base",
            "_view_module_version": "1.2.0",
            "_view_name": "LayoutView",
            "align_content": null,
            "align_items": null,
            "align_self": null,
            "border": null,
            "bottom": null,
            "display": null,
            "flex": null,
            "flex_flow": null,
            "grid_area": null,
            "grid_auto_columns": null,
            "grid_auto_flow": null,
            "grid_auto_rows": null,
            "grid_column": null,
            "grid_gap": null,
            "grid_row": null,
            "grid_template_areas": null,
            "grid_template_columns": null,
            "grid_template_rows": null,
            "height": null,
            "justify_content": null,
            "justify_items": null,
            "left": null,
            "margin": null,
            "max_height": null,
            "max_width": null,
            "min_height": null,
            "min_width": null,
            "object_fit": null,
            "object_position": null,
            "order": null,
            "overflow": null,
            "overflow_x": null,
            "overflow_y": null,
            "padding": null,
            "right": null,
            "top": null,
            "visibility": null,
            "width": null
          }
        },
        "285fb3e2e3554a29945c4b1ab8ce3fc5": {
          "model_module": "@jupyter-widgets/controls",
          "model_name": "ProgressStyleModel",
          "model_module_version": "1.5.0",
          "state": {
            "_model_module": "@jupyter-widgets/controls",
            "_model_module_version": "1.5.0",
            "_model_name": "ProgressStyleModel",
            "_view_count": null,
            "_view_module": "@jupyter-widgets/base",
            "_view_module_version": "1.2.0",
            "_view_name": "StyleView",
            "bar_color": null,
            "description_width": ""
          }
        },
        "f4ba2069ebc44fcfb4fa244988217a73": {
          "model_module": "@jupyter-widgets/base",
          "model_name": "LayoutModel",
          "model_module_version": "1.2.0",
          "state": {
            "_model_module": "@jupyter-widgets/base",
            "_model_module_version": "1.2.0",
            "_model_name": "LayoutModel",
            "_view_count": null,
            "_view_module": "@jupyter-widgets/base",
            "_view_module_version": "1.2.0",
            "_view_name": "LayoutView",
            "align_content": null,
            "align_items": null,
            "align_self": null,
            "border": null,
            "bottom": null,
            "display": null,
            "flex": null,
            "flex_flow": null,
            "grid_area": null,
            "grid_auto_columns": null,
            "grid_auto_flow": null,
            "grid_auto_rows": null,
            "grid_column": null,
            "grid_gap": null,
            "grid_row": null,
            "grid_template_areas": null,
            "grid_template_columns": null,
            "grid_template_rows": null,
            "height": null,
            "justify_content": null,
            "justify_items": null,
            "left": null,
            "margin": null,
            "max_height": null,
            "max_width": null,
            "min_height": null,
            "min_width": null,
            "object_fit": null,
            "object_position": null,
            "order": null,
            "overflow": null,
            "overflow_x": null,
            "overflow_y": null,
            "padding": null,
            "right": null,
            "top": null,
            "visibility": null,
            "width": null
          }
        },
        "882fe878041643ec87a0615c0b7e5aea": {
          "model_module": "@jupyter-widgets/controls",
          "model_name": "DescriptionStyleModel",
          "model_module_version": "1.5.0",
          "state": {
            "_model_module": "@jupyter-widgets/controls",
            "_model_module_version": "1.5.0",
            "_model_name": "DescriptionStyleModel",
            "_view_count": null,
            "_view_module": "@jupyter-widgets/base",
            "_view_module_version": "1.2.0",
            "_view_name": "StyleView",
            "description_width": ""
          }
        },
        "6264439356254bda9d146a3dc29db2a5": {
          "model_module": "@jupyter-widgets/controls",
          "model_name": "HBoxModel",
          "model_module_version": "1.5.0",
          "state": {
            "_dom_classes": [],
            "_model_module": "@jupyter-widgets/controls",
            "_model_module_version": "1.5.0",
            "_model_name": "HBoxModel",
            "_view_count": null,
            "_view_module": "@jupyter-widgets/controls",
            "_view_module_version": "1.5.0",
            "_view_name": "HBoxView",
            "box_style": "",
            "children": [
              "IPY_MODEL_4a60caaa22024bb4bbb50aec0a97120e",
              "IPY_MODEL_0d8cca54eca744d0ad01ed4cd0a09643",
              "IPY_MODEL_f7b5f2114db84cb7973d0cf4e3f614c8"
            ],
            "layout": "IPY_MODEL_9c6c0e6fbf544d7ebf4c3d3d9521c3ca"
          }
        },
        "4a60caaa22024bb4bbb50aec0a97120e": {
          "model_module": "@jupyter-widgets/controls",
          "model_name": "HTMLModel",
          "model_module_version": "1.5.0",
          "state": {
            "_dom_classes": [],
            "_model_module": "@jupyter-widgets/controls",
            "_model_module_version": "1.5.0",
            "_model_name": "HTMLModel",
            "_view_count": null,
            "_view_module": "@jupyter-widgets/controls",
            "_view_module_version": "1.5.0",
            "_view_name": "HTMLView",
            "description": "",
            "description_tooltip": null,
            "layout": "IPY_MODEL_1fc6e6a0a3434cd3b51836bcea8922b3",
            "placeholder": "​",
            "style": "IPY_MODEL_85e7ad5e7bf24e5f904f86bf2cf5f1d3",
            "value": "100%"
          }
        },
        "0d8cca54eca744d0ad01ed4cd0a09643": {
          "model_module": "@jupyter-widgets/controls",
          "model_name": "FloatProgressModel",
          "model_module_version": "1.5.0",
          "state": {
            "_dom_classes": [],
            "_model_module": "@jupyter-widgets/controls",
            "_model_module_version": "1.5.0",
            "_model_name": "FloatProgressModel",
            "_view_count": null,
            "_view_module": "@jupyter-widgets/controls",
            "_view_module_version": "1.5.0",
            "_view_name": "ProgressView",
            "bar_style": "success",
            "description": "",
            "description_tooltip": null,
            "layout": "IPY_MODEL_47e38799bae44278abde8d99c98225d9",
            "max": 20,
            "min": 0,
            "orientation": "horizontal",
            "style": "IPY_MODEL_45255bbaa1e94d1c9047f2fcce251aa2",
            "value": 20
          }
        },
        "f7b5f2114db84cb7973d0cf4e3f614c8": {
          "model_module": "@jupyter-widgets/controls",
          "model_name": "HTMLModel",
          "model_module_version": "1.5.0",
          "state": {
            "_dom_classes": [],
            "_model_module": "@jupyter-widgets/controls",
            "_model_module_version": "1.5.0",
            "_model_name": "HTMLModel",
            "_view_count": null,
            "_view_module": "@jupyter-widgets/controls",
            "_view_module_version": "1.5.0",
            "_view_name": "HTMLView",
            "description": "",
            "description_tooltip": null,
            "layout": "IPY_MODEL_9672aefebb7a478b9261b4a7a27fc4c5",
            "placeholder": "​",
            "style": "IPY_MODEL_cabe051cc89e4aaf98ff66e9e06e227f",
            "value": " 20/20 [00:10&lt;00:00,  1.99it/s]"
          }
        },
        "9c6c0e6fbf544d7ebf4c3d3d9521c3ca": {
          "model_module": "@jupyter-widgets/base",
          "model_name": "LayoutModel",
          "model_module_version": "1.2.0",
          "state": {
            "_model_module": "@jupyter-widgets/base",
            "_model_module_version": "1.2.0",
            "_model_name": "LayoutModel",
            "_view_count": null,
            "_view_module": "@jupyter-widgets/base",
            "_view_module_version": "1.2.0",
            "_view_name": "LayoutView",
            "align_content": null,
            "align_items": null,
            "align_self": null,
            "border": null,
            "bottom": null,
            "display": null,
            "flex": null,
            "flex_flow": null,
            "grid_area": null,
            "grid_auto_columns": null,
            "grid_auto_flow": null,
            "grid_auto_rows": null,
            "grid_column": null,
            "grid_gap": null,
            "grid_row": null,
            "grid_template_areas": null,
            "grid_template_columns": null,
            "grid_template_rows": null,
            "height": null,
            "justify_content": null,
            "justify_items": null,
            "left": null,
            "margin": null,
            "max_height": null,
            "max_width": null,
            "min_height": null,
            "min_width": null,
            "object_fit": null,
            "object_position": null,
            "order": null,
            "overflow": null,
            "overflow_x": null,
            "overflow_y": null,
            "padding": null,
            "right": null,
            "top": null,
            "visibility": null,
            "width": null
          }
        },
        "1fc6e6a0a3434cd3b51836bcea8922b3": {
          "model_module": "@jupyter-widgets/base",
          "model_name": "LayoutModel",
          "model_module_version": "1.2.0",
          "state": {
            "_model_module": "@jupyter-widgets/base",
            "_model_module_version": "1.2.0",
            "_model_name": "LayoutModel",
            "_view_count": null,
            "_view_module": "@jupyter-widgets/base",
            "_view_module_version": "1.2.0",
            "_view_name": "LayoutView",
            "align_content": null,
            "align_items": null,
            "align_self": null,
            "border": null,
            "bottom": null,
            "display": null,
            "flex": null,
            "flex_flow": null,
            "grid_area": null,
            "grid_auto_columns": null,
            "grid_auto_flow": null,
            "grid_auto_rows": null,
            "grid_column": null,
            "grid_gap": null,
            "grid_row": null,
            "grid_template_areas": null,
            "grid_template_columns": null,
            "grid_template_rows": null,
            "height": null,
            "justify_content": null,
            "justify_items": null,
            "left": null,
            "margin": null,
            "max_height": null,
            "max_width": null,
            "min_height": null,
            "min_width": null,
            "object_fit": null,
            "object_position": null,
            "order": null,
            "overflow": null,
            "overflow_x": null,
            "overflow_y": null,
            "padding": null,
            "right": null,
            "top": null,
            "visibility": null,
            "width": null
          }
        },
        "85e7ad5e7bf24e5f904f86bf2cf5f1d3": {
          "model_module": "@jupyter-widgets/controls",
          "model_name": "DescriptionStyleModel",
          "model_module_version": "1.5.0",
          "state": {
            "_model_module": "@jupyter-widgets/controls",
            "_model_module_version": "1.5.0",
            "_model_name": "DescriptionStyleModel",
            "_view_count": null,
            "_view_module": "@jupyter-widgets/base",
            "_view_module_version": "1.2.0",
            "_view_name": "StyleView",
            "description_width": ""
          }
        },
        "47e38799bae44278abde8d99c98225d9": {
          "model_module": "@jupyter-widgets/base",
          "model_name": "LayoutModel",
          "model_module_version": "1.2.0",
          "state": {
            "_model_module": "@jupyter-widgets/base",
            "_model_module_version": "1.2.0",
            "_model_name": "LayoutModel",
            "_view_count": null,
            "_view_module": "@jupyter-widgets/base",
            "_view_module_version": "1.2.0",
            "_view_name": "LayoutView",
            "align_content": null,
            "align_items": null,
            "align_self": null,
            "border": null,
            "bottom": null,
            "display": null,
            "flex": null,
            "flex_flow": null,
            "grid_area": null,
            "grid_auto_columns": null,
            "grid_auto_flow": null,
            "grid_auto_rows": null,
            "grid_column": null,
            "grid_gap": null,
            "grid_row": null,
            "grid_template_areas": null,
            "grid_template_columns": null,
            "grid_template_rows": null,
            "height": null,
            "justify_content": null,
            "justify_items": null,
            "left": null,
            "margin": null,
            "max_height": null,
            "max_width": null,
            "min_height": null,
            "min_width": null,
            "object_fit": null,
            "object_position": null,
            "order": null,
            "overflow": null,
            "overflow_x": null,
            "overflow_y": null,
            "padding": null,
            "right": null,
            "top": null,
            "visibility": null,
            "width": null
          }
        },
        "45255bbaa1e94d1c9047f2fcce251aa2": {
          "model_module": "@jupyter-widgets/controls",
          "model_name": "ProgressStyleModel",
          "model_module_version": "1.5.0",
          "state": {
            "_model_module": "@jupyter-widgets/controls",
            "_model_module_version": "1.5.0",
            "_model_name": "ProgressStyleModel",
            "_view_count": null,
            "_view_module": "@jupyter-widgets/base",
            "_view_module_version": "1.2.0",
            "_view_name": "StyleView",
            "bar_color": null,
            "description_width": ""
          }
        },
        "9672aefebb7a478b9261b4a7a27fc4c5": {
          "model_module": "@jupyter-widgets/base",
          "model_name": "LayoutModel",
          "model_module_version": "1.2.0",
          "state": {
            "_model_module": "@jupyter-widgets/base",
            "_model_module_version": "1.2.0",
            "_model_name": "LayoutModel",
            "_view_count": null,
            "_view_module": "@jupyter-widgets/base",
            "_view_module_version": "1.2.0",
            "_view_name": "LayoutView",
            "align_content": null,
            "align_items": null,
            "align_self": null,
            "border": null,
            "bottom": null,
            "display": null,
            "flex": null,
            "flex_flow": null,
            "grid_area": null,
            "grid_auto_columns": null,
            "grid_auto_flow": null,
            "grid_auto_rows": null,
            "grid_column": null,
            "grid_gap": null,
            "grid_row": null,
            "grid_template_areas": null,
            "grid_template_columns": null,
            "grid_template_rows": null,
            "height": null,
            "justify_content": null,
            "justify_items": null,
            "left": null,
            "margin": null,
            "max_height": null,
            "max_width": null,
            "min_height": null,
            "min_width": null,
            "object_fit": null,
            "object_position": null,
            "order": null,
            "overflow": null,
            "overflow_x": null,
            "overflow_y": null,
            "padding": null,
            "right": null,
            "top": null,
            "visibility": null,
            "width": null
          }
        },
        "cabe051cc89e4aaf98ff66e9e06e227f": {
          "model_module": "@jupyter-widgets/controls",
          "model_name": "DescriptionStyleModel",
          "model_module_version": "1.5.0",
          "state": {
            "_model_module": "@jupyter-widgets/controls",
            "_model_module_version": "1.5.0",
            "_model_name": "DescriptionStyleModel",
            "_view_count": null,
            "_view_module": "@jupyter-widgets/base",
            "_view_module_version": "1.2.0",
            "_view_name": "StyleView",
            "description_width": ""
          }
        },
        "d19df0572d3841f1a9861730035e4e6c": {
          "model_module": "@jupyter-widgets/controls",
          "model_name": "VBoxModel",
          "model_module_version": "1.5.0",
          "state": {
            "_dom_classes": [
              "widget-interact"
            ],
            "_model_module": "@jupyter-widgets/controls",
            "_model_module_version": "1.5.0",
            "_model_name": "VBoxModel",
            "_view_count": null,
            "_view_module": "@jupyter-widgets/controls",
            "_view_module_version": "1.5.0",
            "_view_name": "VBoxView",
            "box_style": "",
            "children": [
              "IPY_MODEL_2edc9dda720f45ffb1b81172ef765f08",
              "IPY_MODEL_3e4edd27b7ab434883fc19cff396b7a8",
              "IPY_MODEL_6bebe1d905cf4bc19b2d7c91b437a34b",
              "IPY_MODEL_52b239a0aa8b44a392b22558100b7c4b",
              "IPY_MODEL_6cb88d1843304d75a63f8fed7f303939",
              "IPY_MODEL_fa15807f37514abe9bb9f95d96ddace8"
            ],
            "layout": "IPY_MODEL_8a6368726dbe4ca8951c64e694c5af15"
          }
        },
        "2edc9dda720f45ffb1b81172ef765f08": {
          "model_module": "@jupyter-widgets/controls",
          "model_name": "IntSliderModel",
          "model_module_version": "1.5.0",
          "state": {
            "_dom_classes": [],
            "_model_module": "@jupyter-widgets/controls",
            "_model_module_version": "1.5.0",
            "_model_name": "IntSliderModel",
            "_view_count": null,
            "_view_module": "@jupyter-widgets/controls",
            "_view_module_version": "1.5.0",
            "_view_name": "IntSliderView",
            "continuous_update": true,
            "description": "n",
            "description_tooltip": null,
            "disabled": false,
            "layout": "IPY_MODEL_1196dc2cf38c4c63bb0d3c7bf36d5e4c",
            "max": 30,
            "min": 2,
            "orientation": "horizontal",
            "readout": true,
            "readout_format": "d",
            "step": 1,
            "style": "IPY_MODEL_1f366dba08b645b0a5d05783dab08f5d",
            "value": 14
          }
        },
        "3e4edd27b7ab434883fc19cff396b7a8": {
          "model_module": "@jupyter-widgets/controls",
          "model_name": "IntSliderModel",
          "model_module_version": "1.5.0",
          "state": {
            "_dom_classes": [],
            "_model_module": "@jupyter-widgets/controls",
            "_model_module_version": "1.5.0",
            "_model_name": "IntSliderModel",
            "_view_count": null,
            "_view_module": "@jupyter-widgets/controls",
            "_view_module_version": "1.5.0",
            "_view_name": "IntSliderView",
            "continuous_update": true,
            "description": "m",
            "description_tooltip": null,
            "disabled": false,
            "layout": "IPY_MODEL_98cd15c38b4d4faface6d664c13e68d6",
            "max": 10,
            "min": 1,
            "orientation": "horizontal",
            "readout": true,
            "readout_format": "d",
            "step": 1,
            "style": "IPY_MODEL_21d7e2b1dc48466b99533171fe6692ec",
            "value": 5
          }
        },
        "6bebe1d905cf4bc19b2d7c91b437a34b": {
          "model_module": "@jupyter-widgets/controls",
          "model_name": "IntSliderModel",
          "model_module_version": "1.5.0",
          "state": {
            "_dom_classes": [],
            "_model_module": "@jupyter-widgets/controls",
            "_model_module_version": "1.5.0",
            "_model_name": "IntSliderModel",
            "_view_count": null,
            "_view_module": "@jupyter-widgets/controls",
            "_view_module_version": "1.5.0",
            "_view_name": "IntSliderView",
            "continuous_update": true,
            "description": "k",
            "description_tooltip": null,
            "disabled": false,
            "layout": "IPY_MODEL_a06a723c90f64015b9ed9980ef12e596",
            "max": 10,
            "min": 1,
            "orientation": "horizontal",
            "readout": true,
            "readout_format": "d",
            "step": 1,
            "style": "IPY_MODEL_c1918a0a09ed4a12948c25aa881a59c2",
            "value": 5
          }
        },
        "52b239a0aa8b44a392b22558100b7c4b": {
          "model_module": "@jupyter-widgets/controls",
          "model_name": "FloatSliderModel",
          "model_module_version": "1.5.0",
          "state": {
            "_dom_classes": [],
            "_model_module": "@jupyter-widgets/controls",
            "_model_module_version": "1.5.0",
            "_model_name": "FloatSliderModel",
            "_view_count": null,
            "_view_module": "@jupyter-widgets/controls",
            "_view_module_version": "1.5.0",
            "_view_name": "FloatSliderView",
            "continuous_update": true,
            "description": "p",
            "description_tooltip": null,
            "disabled": false,
            "layout": "IPY_MODEL_b4b7ed67e22b4774940b1af30c8d8578",
            "max": 0.99,
            "min": 0,
            "orientation": "horizontal",
            "readout": true,
            "readout_format": ".2f",
            "step": 0.001,
            "style": "IPY_MODEL_d1bbb5dc06654ac88043390960c992bc",
            "value": 0.444
          }
        },
        "6cb88d1843304d75a63f8fed7f303939": {
          "model_module": "@jupyter-widgets/controls",
          "model_name": "DropdownModel",
          "model_module_version": "1.5.0",
          "state": {
            "_dom_classes": [],
            "_model_module": "@jupyter-widgets/controls",
            "_model_module_version": "1.5.0",
            "_model_name": "DropdownModel",
            "_options_labels": [
              "lobster",
              "power law",
              "Newman-Watts-Strogatz",
              "Erdős-Rényi"
            ],
            "_view_count": null,
            "_view_module": "@jupyter-widgets/controls",
            "_view_module_version": "1.5.0",
            "_view_name": "DropdownView",
            "description": "generator",
            "description_tooltip": null,
            "disabled": false,
            "index": 3,
            "layout": "IPY_MODEL_a7402ce1b26a4633a0e30d82dfb380df",
            "style": "IPY_MODEL_d419fe233819432f8ed844a7b326abef"
          }
        },
        "fa15807f37514abe9bb9f95d96ddace8": {
          "model_module": "@jupyter-widgets/output",
          "model_name": "OutputModel",
          "model_module_version": "1.0.0",
          "state": {
            "_dom_classes": [],
            "_model_module": "@jupyter-widgets/output",
            "_model_module_version": "1.0.0",
            "_model_name": "OutputModel",
            "_view_count": null,
            "_view_module": "@jupyter-widgets/output",
            "_view_module_version": "1.0.0",
            "_view_name": "OutputView",
            "layout": "IPY_MODEL_e3da29d26e4f418f907d1a77bc5426cd",
            "msg_id": "",
            "outputs": [
              {
                "output_type": "display_data",
                "data": {
                  "text/plain": "<Figure size 640x480 with 1 Axes>",
                  "image/png": "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\n"
                },
                "metadata": {}
              }
            ]
          }
        },
        "8a6368726dbe4ca8951c64e694c5af15": {
          "model_module": "@jupyter-widgets/base",
          "model_name": "LayoutModel",
          "model_module_version": "1.2.0",
          "state": {
            "_model_module": "@jupyter-widgets/base",
            "_model_module_version": "1.2.0",
            "_model_name": "LayoutModel",
            "_view_count": null,
            "_view_module": "@jupyter-widgets/base",
            "_view_module_version": "1.2.0",
            "_view_name": "LayoutView",
            "align_content": null,
            "align_items": null,
            "align_self": null,
            "border": null,
            "bottom": null,
            "display": null,
            "flex": null,
            "flex_flow": null,
            "grid_area": null,
            "grid_auto_columns": null,
            "grid_auto_flow": null,
            "grid_auto_rows": null,
            "grid_column": null,
            "grid_gap": null,
            "grid_row": null,
            "grid_template_areas": null,
            "grid_template_columns": null,
            "grid_template_rows": null,
            "height": null,
            "justify_content": null,
            "justify_items": null,
            "left": null,
            "margin": null,
            "max_height": null,
            "max_width": null,
            "min_height": null,
            "min_width": null,
            "object_fit": null,
            "object_position": null,
            "order": null,
            "overflow": null,
            "overflow_x": null,
            "overflow_y": null,
            "padding": null,
            "right": null,
            "top": null,
            "visibility": null,
            "width": null
          }
        },
        "1196dc2cf38c4c63bb0d3c7bf36d5e4c": {
          "model_module": "@jupyter-widgets/base",
          "model_name": "LayoutModel",
          "model_module_version": "1.2.0",
          "state": {
            "_model_module": "@jupyter-widgets/base",
            "_model_module_version": "1.2.0",
            "_model_name": "LayoutModel",
            "_view_count": null,
            "_view_module": "@jupyter-widgets/base",
            "_view_module_version": "1.2.0",
            "_view_name": "LayoutView",
            "align_content": null,
            "align_items": null,
            "align_self": null,
            "border": null,
            "bottom": null,
            "display": null,
            "flex": null,
            "flex_flow": null,
            "grid_area": null,
            "grid_auto_columns": null,
            "grid_auto_flow": null,
            "grid_auto_rows": null,
            "grid_column": null,
            "grid_gap": null,
            "grid_row": null,
            "grid_template_areas": null,
            "grid_template_columns": null,
            "grid_template_rows": null,
            "height": null,
            "justify_content": null,
            "justify_items": null,
            "left": null,
            "margin": null,
            "max_height": null,
            "max_width": null,
            "min_height": null,
            "min_width": null,
            "object_fit": null,
            "object_position": null,
            "order": null,
            "overflow": null,
            "overflow_x": null,
            "overflow_y": null,
            "padding": null,
            "right": null,
            "top": null,
            "visibility": null,
            "width": null
          }
        },
        "1f366dba08b645b0a5d05783dab08f5d": {
          "model_module": "@jupyter-widgets/controls",
          "model_name": "SliderStyleModel",
          "model_module_version": "1.5.0",
          "state": {
            "_model_module": "@jupyter-widgets/controls",
            "_model_module_version": "1.5.0",
            "_model_name": "SliderStyleModel",
            "_view_count": null,
            "_view_module": "@jupyter-widgets/base",
            "_view_module_version": "1.2.0",
            "_view_name": "StyleView",
            "description_width": "",
            "handle_color": null
          }
        },
        "98cd15c38b4d4faface6d664c13e68d6": {
          "model_module": "@jupyter-widgets/base",
          "model_name": "LayoutModel",
          "model_module_version": "1.2.0",
          "state": {
            "_model_module": "@jupyter-widgets/base",
            "_model_module_version": "1.2.0",
            "_model_name": "LayoutModel",
            "_view_count": null,
            "_view_module": "@jupyter-widgets/base",
            "_view_module_version": "1.2.0",
            "_view_name": "LayoutView",
            "align_content": null,
            "align_items": null,
            "align_self": null,
            "border": null,
            "bottom": null,
            "display": null,
            "flex": null,
            "flex_flow": null,
            "grid_area": null,
            "grid_auto_columns": null,
            "grid_auto_flow": null,
            "grid_auto_rows": null,
            "grid_column": null,
            "grid_gap": null,
            "grid_row": null,
            "grid_template_areas": null,
            "grid_template_columns": null,
            "grid_template_rows": null,
            "height": null,
            "justify_content": null,
            "justify_items": null,
            "left": null,
            "margin": null,
            "max_height": null,
            "max_width": null,
            "min_height": null,
            "min_width": null,
            "object_fit": null,
            "object_position": null,
            "order": null,
            "overflow": null,
            "overflow_x": null,
            "overflow_y": null,
            "padding": null,
            "right": null,
            "top": null,
            "visibility": null,
            "width": null
          }
        },
        "21d7e2b1dc48466b99533171fe6692ec": {
          "model_module": "@jupyter-widgets/controls",
          "model_name": "SliderStyleModel",
          "model_module_version": "1.5.0",
          "state": {
            "_model_module": "@jupyter-widgets/controls",
            "_model_module_version": "1.5.0",
            "_model_name": "SliderStyleModel",
            "_view_count": null,
            "_view_module": "@jupyter-widgets/base",
            "_view_module_version": "1.2.0",
            "_view_name": "StyleView",
            "description_width": "",
            "handle_color": null
          }
        },
        "a06a723c90f64015b9ed9980ef12e596": {
          "model_module": "@jupyter-widgets/base",
          "model_name": "LayoutModel",
          "model_module_version": "1.2.0",
          "state": {
            "_model_module": "@jupyter-widgets/base",
            "_model_module_version": "1.2.0",
            "_model_name": "LayoutModel",
            "_view_count": null,
            "_view_module": "@jupyter-widgets/base",
            "_view_module_version": "1.2.0",
            "_view_name": "LayoutView",
            "align_content": null,
            "align_items": null,
            "align_self": null,
            "border": null,
            "bottom": null,
            "display": null,
            "flex": null,
            "flex_flow": null,
            "grid_area": null,
            "grid_auto_columns": null,
            "grid_auto_flow": null,
            "grid_auto_rows": null,
            "grid_column": null,
            "grid_gap": null,
            "grid_row": null,
            "grid_template_areas": null,
            "grid_template_columns": null,
            "grid_template_rows": null,
            "height": null,
            "justify_content": null,
            "justify_items": null,
            "left": null,
            "margin": null,
            "max_height": null,
            "max_width": null,
            "min_height": null,
            "min_width": null,
            "object_fit": null,
            "object_position": null,
            "order": null,
            "overflow": null,
            "overflow_x": null,
            "overflow_y": null,
            "padding": null,
            "right": null,
            "top": null,
            "visibility": null,
            "width": null
          }
        },
        "c1918a0a09ed4a12948c25aa881a59c2": {
          "model_module": "@jupyter-widgets/controls",
          "model_name": "SliderStyleModel",
          "model_module_version": "1.5.0",
          "state": {
            "_model_module": "@jupyter-widgets/controls",
            "_model_module_version": "1.5.0",
            "_model_name": "SliderStyleModel",
            "_view_count": null,
            "_view_module": "@jupyter-widgets/base",
            "_view_module_version": "1.2.0",
            "_view_name": "StyleView",
            "description_width": "",
            "handle_color": null
          }
        },
        "b4b7ed67e22b4774940b1af30c8d8578": {
          "model_module": "@jupyter-widgets/base",
          "model_name": "LayoutModel",
          "model_module_version": "1.2.0",
          "state": {
            "_model_module": "@jupyter-widgets/base",
            "_model_module_version": "1.2.0",
            "_model_name": "LayoutModel",
            "_view_count": null,
            "_view_module": "@jupyter-widgets/base",
            "_view_module_version": "1.2.0",
            "_view_name": "LayoutView",
            "align_content": null,
            "align_items": null,
            "align_self": null,
            "border": null,
            "bottom": null,
            "display": null,
            "flex": null,
            "flex_flow": null,
            "grid_area": null,
            "grid_auto_columns": null,
            "grid_auto_flow": null,
            "grid_auto_rows": null,
            "grid_column": null,
            "grid_gap": null,
            "grid_row": null,
            "grid_template_areas": null,
            "grid_template_columns": null,
            "grid_template_rows": null,
            "height": null,
            "justify_content": null,
            "justify_items": null,
            "left": null,
            "margin": null,
            "max_height": null,
            "max_width": null,
            "min_height": null,
            "min_width": null,
            "object_fit": null,
            "object_position": null,
            "order": null,
            "overflow": null,
            "overflow_x": null,
            "overflow_y": null,
            "padding": null,
            "right": null,
            "top": null,
            "visibility": null,
            "width": null
          }
        },
        "d1bbb5dc06654ac88043390960c992bc": {
          "model_module": "@jupyter-widgets/controls",
          "model_name": "SliderStyleModel",
          "model_module_version": "1.5.0",
          "state": {
            "_model_module": "@jupyter-widgets/controls",
            "_model_module_version": "1.5.0",
            "_model_name": "SliderStyleModel",
            "_view_count": null,
            "_view_module": "@jupyter-widgets/base",
            "_view_module_version": "1.2.0",
            "_view_name": "StyleView",
            "description_width": "",
            "handle_color": null
          }
        },
        "a7402ce1b26a4633a0e30d82dfb380df": {
          "model_module": "@jupyter-widgets/base",
          "model_name": "LayoutModel",
          "model_module_version": "1.2.0",
          "state": {
            "_model_module": "@jupyter-widgets/base",
            "_model_module_version": "1.2.0",
            "_model_name": "LayoutModel",
            "_view_count": null,
            "_view_module": "@jupyter-widgets/base",
            "_view_module_version": "1.2.0",
            "_view_name": "LayoutView",
            "align_content": null,
            "align_items": null,
            "align_self": null,
            "border": null,
            "bottom": null,
            "display": null,
            "flex": null,
            "flex_flow": null,
            "grid_area": null,
            "grid_auto_columns": null,
            "grid_auto_flow": null,
            "grid_auto_rows": null,
            "grid_column": null,
            "grid_gap": null,
            "grid_row": null,
            "grid_template_areas": null,
            "grid_template_columns": null,
            "grid_template_rows": null,
            "height": null,
            "justify_content": null,
            "justify_items": null,
            "left": null,
            "margin": null,
            "max_height": null,
            "max_width": null,
            "min_height": null,
            "min_width": null,
            "object_fit": null,
            "object_position": null,
            "order": null,
            "overflow": null,
            "overflow_x": null,
            "overflow_y": null,
            "padding": null,
            "right": null,
            "top": null,
            "visibility": null,
            "width": null
          }
        },
        "d419fe233819432f8ed844a7b326abef": {
          "model_module": "@jupyter-widgets/controls",
          "model_name": "DescriptionStyleModel",
          "model_module_version": "1.5.0",
          "state": {
            "_model_module": "@jupyter-widgets/controls",
            "_model_module_version": "1.5.0",
            "_model_name": "DescriptionStyleModel",
            "_view_count": null,
            "_view_module": "@jupyter-widgets/base",
            "_view_module_version": "1.2.0",
            "_view_name": "StyleView",
            "description_width": ""
          }
        },
        "e3da29d26e4f418f907d1a77bc5426cd": {
          "model_module": "@jupyter-widgets/base",
          "model_name": "LayoutModel",
          "model_module_version": "1.2.0",
          "state": {
            "_model_module": "@jupyter-widgets/base",
            "_model_module_version": "1.2.0",
            "_model_name": "LayoutModel",
            "_view_count": null,
            "_view_module": "@jupyter-widgets/base",
            "_view_module_version": "1.2.0",
            "_view_name": "LayoutView",
            "align_content": null,
            "align_items": null,
            "align_self": null,
            "border": null,
            "bottom": null,
            "display": null,
            "flex": null,
            "flex_flow": null,
            "grid_area": null,
            "grid_auto_columns": null,
            "grid_auto_flow": null,
            "grid_auto_rows": null,
            "grid_column": null,
            "grid_gap": null,
            "grid_row": null,
            "grid_template_areas": null,
            "grid_template_columns": null,
            "grid_template_rows": null,
            "height": null,
            "justify_content": null,
            "justify_items": null,
            "left": null,
            "margin": null,
            "max_height": null,
            "max_width": null,
            "min_height": null,
            "min_width": null,
            "object_fit": null,
            "object_position": null,
            "order": null,
            "overflow": null,
            "overflow_x": null,
            "overflow_y": null,
            "padding": null,
            "right": null,
            "top": null,
            "visibility": null,
            "width": null
          }
        }
      }
    }
  },
  "nbformat": 4,
  "nbformat_minor": 5
}