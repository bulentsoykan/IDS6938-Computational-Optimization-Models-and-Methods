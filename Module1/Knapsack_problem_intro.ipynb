{
  "nbformat": 4,
  "nbformat_minor": 0,
  "metadata": {
    "colab": {
      "provenance": [],
      "authorship_tag": "ABX9TyN7atH57VBflj168dkHuSms",
      "include_colab_link": true
    },
    "kernelspec": {
      "name": "python3",
      "display_name": "Python 3"
    },
    "language_info": {
      "name": "python"
    },
    "widgets": {
      "application/vnd.jupyter.widget-state+json": {
        "6e11f199712e4d8d8d5d6559ea81874e": {
          "model_module": "@jupyter-widgets/controls",
          "model_name": "DropdownModel",
          "model_module_version": "1.5.0",
          "state": {
            "_dom_classes": [],
            "_model_module": "@jupyter-widgets/controls",
            "_model_module_version": "1.5.0",
            "_model_name": "DropdownModel",
            "_options_labels": [
              "By Value",
              "By Weight (Inverse)",
              "By Density"
            ],
            "_view_count": null,
            "_view_module": "@jupyter-widgets/controls",
            "_view_module_version": "1.5.0",
            "_view_name": "DropdownView",
            "description": "Strategy:",
            "description_tooltip": null,
            "disabled": false,
            "index": 2,
            "layout": "IPY_MODEL_bae3e8343d3344fc8dcaced16891d714",
            "style": "IPY_MODEL_e15070bd47f443f19b25c2db4c8e65ab"
          }
        },
        "bae3e8343d3344fc8dcaced16891d714": {
          "model_module": "@jupyter-widgets/base",
          "model_name": "LayoutModel",
          "model_module_version": "1.2.0",
          "state": {
            "_model_module": "@jupyter-widgets/base",
            "_model_module_version": "1.2.0",
            "_model_name": "LayoutModel",
            "_view_count": null,
            "_view_module": "@jupyter-widgets/base",
            "_view_module_version": "1.2.0",
            "_view_name": "LayoutView",
            "align_content": null,
            "align_items": null,
            "align_self": null,
            "border": null,
            "bottom": null,
            "display": null,
            "flex": null,
            "flex_flow": null,
            "grid_area": null,
            "grid_auto_columns": null,
            "grid_auto_flow": null,
            "grid_auto_rows": null,
            "grid_column": null,
            "grid_gap": null,
            "grid_row": null,
            "grid_template_areas": null,
            "grid_template_columns": null,
            "grid_template_rows": null,
            "height": null,
            "justify_content": null,
            "justify_items": null,
            "left": null,
            "margin": null,
            "max_height": null,
            "max_width": null,
            "min_height": null,
            "min_width": null,
            "object_fit": null,
            "object_position": null,
            "order": null,
            "overflow": null,
            "overflow_x": null,
            "overflow_y": null,
            "padding": null,
            "right": null,
            "top": null,
            "visibility": null,
            "width": null
          }
        },
        "e15070bd47f443f19b25c2db4c8e65ab": {
          "model_module": "@jupyter-widgets/controls",
          "model_name": "DescriptionStyleModel",
          "model_module_version": "1.5.0",
          "state": {
            "_model_module": "@jupyter-widgets/controls",
            "_model_module_version": "1.5.0",
            "_model_name": "DescriptionStyleModel",
            "_view_count": null,
            "_view_module": "@jupyter-widgets/base",
            "_view_module_version": "1.2.0",
            "_view_name": "StyleView",
            "description_width": ""
          }
        },
        "1b643ef426b9493093e026cf93c2077d": {
          "model_module": "@jupyter-widgets/controls",
          "model_name": "IntSliderModel",
          "model_module_version": "1.5.0",
          "state": {
            "_dom_classes": [],
            "_model_module": "@jupyter-widgets/controls",
            "_model_module_version": "1.5.0",
            "_model_name": "IntSliderModel",
            "_view_count": null,
            "_view_module": "@jupyter-widgets/controls",
            "_view_module_version": "1.5.0",
            "_view_name": "IntSliderView",
            "continuous_update": false,
            "description": "Max Weight:",
            "description_tooltip": null,
            "disabled": false,
            "layout": "IPY_MODEL_1665ddbbca7f4ff6838e798922d3efb7",
            "max": 50,
            "min": 1,
            "orientation": "horizontal",
            "readout": true,
            "readout_format": "d",
            "step": 1,
            "style": "IPY_MODEL_671acad4e0ce4206882cc323bdb18844",
            "value": 28
          }
        },
        "1665ddbbca7f4ff6838e798922d3efb7": {
          "model_module": "@jupyter-widgets/base",
          "model_name": "LayoutModel",
          "model_module_version": "1.2.0",
          "state": {
            "_model_module": "@jupyter-widgets/base",
            "_model_module_version": "1.2.0",
            "_model_name": "LayoutModel",
            "_view_count": null,
            "_view_module": "@jupyter-widgets/base",
            "_view_module_version": "1.2.0",
            "_view_name": "LayoutView",
            "align_content": null,
            "align_items": null,
            "align_self": null,
            "border": null,
            "bottom": null,
            "display": null,
            "flex": null,
            "flex_flow": null,
            "grid_area": null,
            "grid_auto_columns": null,
            "grid_auto_flow": null,
            "grid_auto_rows": null,
            "grid_column": null,
            "grid_gap": null,
            "grid_row": null,
            "grid_template_areas": null,
            "grid_template_columns": null,
            "grid_template_rows": null,
            "height": null,
            "justify_content": null,
            "justify_items": null,
            "left": null,
            "margin": null,
            "max_height": null,
            "max_width": null,
            "min_height": null,
            "min_width": null,
            "object_fit": null,
            "object_position": null,
            "order": null,
            "overflow": null,
            "overflow_x": null,
            "overflow_y": null,
            "padding": null,
            "right": null,
            "top": null,
            "visibility": null,
            "width": null
          }
        },
        "671acad4e0ce4206882cc323bdb18844": {
          "model_module": "@jupyter-widgets/controls",
          "model_name": "SliderStyleModel",
          "model_module_version": "1.5.0",
          "state": {
            "_model_module": "@jupyter-widgets/controls",
            "_model_module_version": "1.5.0",
            "_model_name": "SliderStyleModel",
            "_view_count": null,
            "_view_module": "@jupyter-widgets/base",
            "_view_module_version": "1.2.0",
            "_view_name": "StyleView",
            "description_width": "",
            "handle_color": null
          }
        },
        "06bc4b1910f54110900ed753c82fc469": {
          "model_module": "@jupyter-widgets/output",
          "model_name": "OutputModel",
          "model_module_version": "1.0.0",
          "state": {
            "_dom_classes": [],
            "_model_module": "@jupyter-widgets/output",
            "_model_module_version": "1.0.0",
            "_model_name": "OutputModel",
            "_view_count": null,
            "_view_module": "@jupyter-widgets/output",
            "_view_module_version": "1.0.0",
            "_view_name": "OutputView",
            "layout": "IPY_MODEL_77fb467b847d4c34ab016ae4a67d06d8",
            "msg_id": "",
            "outputs": [
              {
                "output_type": "display_data",
                "data": {
                  "text/plain": "<Figure size 1000x600 with 1 Axes>",
                  "image/png": "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\n"
                },
                "metadata": {}
              }
            ]
          }
        },
        "77fb467b847d4c34ab016ae4a67d06d8": {
          "model_module": "@jupyter-widgets/base",
          "model_name": "LayoutModel",
          "model_module_version": "1.2.0",
          "state": {
            "_model_module": "@jupyter-widgets/base",
            "_model_module_version": "1.2.0",
            "_model_name": "LayoutModel",
            "_view_count": null,
            "_view_module": "@jupyter-widgets/base",
            "_view_module_version": "1.2.0",
            "_view_name": "LayoutView",
            "align_content": null,
            "align_items": null,
            "align_self": null,
            "border": null,
            "bottom": null,
            "display": null,
            "flex": null,
            "flex_flow": null,
            "grid_area": null,
            "grid_auto_columns": null,
            "grid_auto_flow": null,
            "grid_auto_rows": null,
            "grid_column": null,
            "grid_gap": null,
            "grid_row": null,
            "grid_template_areas": null,
            "grid_template_columns": null,
            "grid_template_rows": null,
            "height": null,
            "justify_content": null,
            "justify_items": null,
            "left": null,
            "margin": null,
            "max_height": null,
            "max_width": null,
            "min_height": null,
            "min_width": null,
            "object_fit": null,
            "object_position": null,
            "order": null,
            "overflow": null,
            "overflow_x": null,
            "overflow_y": null,
            "padding": null,
            "right": null,
            "top": null,
            "visibility": null,
            "width": null
          }
        }
      }
    }
  },
  "cells": [
    {
      "cell_type": "markdown",
      "metadata": {
        "id": "view-in-github",
        "colab_type": "text"
      },
      "source": [
        "<a href=\"https://colab.research.google.com/github/bulentsoykan/IDS6938-Computational-Optimization-Models-and-Methods/blob/main/Knapsack_problem_intro.ipynb\" target=\"_parent\"><img src=\"https://colab.research.google.com/assets/colab-badge.svg\" alt=\"Open In Colab\"/></a>"
      ]
    },
    {
      "cell_type": "markdown",
      "source": [
        "# Introduction to the Knapsack Problem using Greedy Algorithms"
      ],
      "metadata": {
        "id": "5EE5UwJysCL4"
      }
    },
    {
      "cell_type": "markdown",
      "source": [
        "In this notebook, we will explore the knapsack problem and solve it using various greedy algorithms to understand the concept of optimization.\n",
        "\n",
        "#### Definition:\n",
        "The knapsack problem involves selecting a subset of items, each with a value and a weight, to include in a knapsack of limited capacity, such that the total value is maximized without exceeding the weight capacity.\n",
        "\n",
        "Let's dive into the problem and its solution using Python."
      ],
      "metadata": {
        "id": "-mlHIpWoOPm9"
      }
    },
    {
      "cell_type": "markdown",
      "source": [
        "![image.png](data:image/png;base64,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)"
      ],
      "metadata": {
        "id": "OT-XDoH7RRhD"
      }
    },
    {
      "cell_type": "code",
      "source": [
        "# Define the Item class that will be used to represent each item\n",
        "class Item(object):\n",
        "    def __init__(self, n, v, w):\n",
        "        self._name = n\n",
        "        self._value = v\n",
        "        self._weight = w\n",
        "    def get_name(self):\n",
        "        return self._name\n",
        "    def get_value(self):\n",
        "        return self._value\n",
        "    def get_weight(self):\n",
        "        return self._weight\n",
        "    def __str__(self):\n",
        "        return f'<{self._name}, {self._value}, {self._weight}>'"
      ],
      "metadata": {
        "id": "U4CrMw9mM5Iw"
      },
      "execution_count": 19,
      "outputs": []
    },
    {
      "cell_type": "markdown",
      "source": [
        "### Explanation:\n",
        "- The `Item` class represents an individual item with three attributes: name, value, and weight.\n",
        "- The class provides methods to access these attributes and a `__str__` method to neatly print the item details.\n",
        "\n",
        "---"
      ],
      "metadata": {
        "id": "9NYPL3wYObfa"
      }
    },
    {
      "cell_type": "code",
      "source": [
        "# Define a function to get the value of an item\n",
        "def value(item):\n",
        "    return item.get_value()"
      ],
      "metadata": {
        "id": "x7ReSFkTM53z"
      },
      "execution_count": 20,
      "outputs": []
    },
    {
      "cell_type": "markdown",
      "source": [
        "### Explanation:\n",
        "- The `value` function serves as a key function to extract the value attribute from an `Item` object. This will be useful for sorting items by value.\n",
        "\n",
        "---"
      ],
      "metadata": {
        "id": "AKb2RJQ8OjbG"
      }
    },
    {
      "cell_type": "code",
      "source": [
        "# Define a function to get the inverse of the weight of an item\n",
        "def weight_inverse(item):\n",
        "    return 1.0/item.get_weight()"
      ],
      "metadata": {
        "id": "A9qVshHFM8X1"
      },
      "execution_count": 21,
      "outputs": []
    },
    {
      "cell_type": "markdown",
      "source": [
        "### Explanation:\n",
        "- The `weight_inverse` function returns the inverse of the item's weight. This helps prioritize items with lower weight when used as a key for sorting.\n",
        "\n",
        "---"
      ],
      "metadata": {
        "id": "0a_0Yp1zOqJH"
      }
    },
    {
      "cell_type": "code",
      "source": [
        "# Define a function to get the density (value-to-weight ratio) of an item\n",
        "def density(item):\n",
        "    return item.get_value()/item.get_weight()"
      ],
      "metadata": {
        "id": "Ks19q-13M9p1"
      },
      "execution_count": 22,
      "outputs": []
    },
    {
      "cell_type": "markdown",
      "source": [
        "### Explanation:\n",
        "- The `density` function calculates the value-to-weight ratio for an item. This ratio indicates the item's value per unit of weight, helping prioritize items that provide the most value with the least weight.\n",
        "\n",
        "---"
      ],
      "metadata": {
        "id": "6jEunrNEOu0Z"
      }
    },
    {
      "cell_type": "code",
      "source": [
        "# Implement the greedy algorithm to solve the knapsack problem\n",
        "def greedy(items, max_weight, key_function):\n",
        "    \"\"\"Assumes items a list, max_weight >= 0,\n",
        "       key_function maps elements of items to numbers\"\"\"\n",
        "    items_copy = sorted(items, key=key_function, reverse = True)\n",
        "    result = []\n",
        "    total_value, total_weight = 0.0, 0.0\n",
        "    for i in range(len(items_copy)):\n",
        "        if (total_weight + items_copy[i].get_weight()) <= max_weight:\n",
        "            result.append(items_copy[i])\n",
        "            total_weight += items_copy[i].get_weight()\n",
        "            total_value += items_copy[i].get_value()\n",
        "    return (result, total_value)"
      ],
      "metadata": {
        "id": "cXxxAIuKM_PU"
      },
      "execution_count": 23,
      "outputs": []
    },
    {
      "cell_type": "markdown",
      "source": [
        "### Explanation:\n",
        "- The `greedy` function implements the greedy algorithm to solve the knapsack problem.\n",
        "- **Inputs:**\n",
        "  - `items`: A list of `Item` objects.\n",
        "  - `max_weight`: The maximum weight capacity of the knapsack.\n",
        "  - `key_function`: A function used to sort the items based on a specific criterion (e.g., value, weight inverse, density).\n",
        "- **Process:**\n",
        "  - The items list is sorted using the `key_function` in descending order.\n",
        "  - The function iterates through the sorted list and adds items to the knapsack as long as the total weight does not exceed the maximum capacity.\n",
        "- **Outputs:**\n",
        "  - `result`: A list of items included in the knapsack.\n",
        "  - `total_value`: The total value of the items in the knapsack.\n",
        "\n",
        "---"
      ],
      "metadata": {
        "id": "x_ab8CAQO4nw"
      }
    },
    {
      "cell_type": "code",
      "source": [
        "# Build the list of items\n",
        "def build_items():\n",
        "    names = ['clock','painting','radio','vase','book','computer']\n",
        "    values = [175,90,20,50,10,200]\n",
        "    weights = [10,9,4,2,1,20]\n",
        "    Items = []\n",
        "    for i in range(len(values)):\n",
        "        Items.append(Item(names[i], values[i], weights[i]))\n",
        "    return Items"
      ],
      "metadata": {
        "id": "erMzrIe5NBOF"
      },
      "execution_count": 24,
      "outputs": []
    },
    {
      "cell_type": "markdown",
      "source": [
        "### Explanation:\n",
        "- The `build_items` function creates a list of `Item` objects.\n",
        "- **Inputs:** None\n",
        "- **Outputs:** A list of `Item` objects with predefined names, values, and weights.\n",
        "\n",
        "---"
      ],
      "metadata": {
        "id": "oQ-Ui09_O9Zw"
      }
    },
    {
      "cell_type": "code",
      "source": [
        "# Test the greedy algorithm with a specific key function\n",
        "def test_greedy(items, max_weight, key_function):\n",
        "    taken, val = greedy(items, max_weight, key_function)\n",
        "    print('Total value of items taken is', val)\n",
        "    for item in taken:\n",
        "        print('   ', item)"
      ],
      "metadata": {
        "id": "sV-grSK6NSUD"
      },
      "execution_count": 25,
      "outputs": []
    },
    {
      "cell_type": "markdown",
      "source": [
        "### Explanation:\n",
        "- The `test_greedy` function tests the greedy algorithm with a given set of items, maximum weight, and key function.\n",
        "- **Inputs:**\n",
        "  - `items`: A list of `Item` objects.\n",
        "  - `max_weight`: The maximum weight capacity of the knapsack.\n",
        "  - `key_function`: The function to be used for sorting items.\n",
        "- **Outputs:** None (prints the results)\n",
        "- **Process:**\n",
        "  - Runs the `greedy` function and prints the total value of items included in the knapsack as well as the items themselves.\n",
        "\n",
        "---"
      ],
      "metadata": {
        "id": "ArHJvq9xPDJ7"
      }
    },
    {
      "cell_type": "code",
      "source": [
        "# Test the greedy algorithm with different key functions\n",
        "def test_greedys(max_weight = 20):\n",
        "    items = build_items()\n",
        "    print('Use greedy by value to fill knapsack of size', max_weight)\n",
        "    test_greedy(items, max_weight, value)\n",
        "    print('\\nUse greedy by weight to fill knapsack of size',\n",
        "          max_weight)\n",
        "    test_greedy(items, max_weight, weight_inverse)\n",
        "    print('\\nUse greedy by density to fill knapsack of size',\n",
        "          max_weight)\n",
        "    test_greedy(items, max_weight, density)"
      ],
      "metadata": {
        "id": "HTaC_230NUAy"
      },
      "execution_count": 26,
      "outputs": []
    },
    {
      "cell_type": "markdown",
      "source": [
        "### Explanation:\n",
        "- The `test_greedys` function tests the greedy algorithm using different key functions to determine which strategy yields the best results.\n",
        "- **Inputs:**\n",
        "  - `max_weight`: The maximum weight capacity of the knapsack (default is 20).\n",
        "- **Process:**\n",
        "  - Builds a predefined set of items using the `build_items` function.\n",
        "  - Runs the `test_greedy` function three times:\n",
        "    - First, sorts by value.\n",
        "    - Second, sorts by the inverse of weight.\n",
        "    - Third, sorts by density (value-to-weight ratio).\n",
        "- **Outputs:** None (prints the results for each strategy)\n",
        "\n",
        "---"
      ],
      "metadata": {
        "id": "8SDLAuPDPLqg"
      }
    },
    {
      "cell_type": "code",
      "source": [
        "test_greedys()"
      ],
      "metadata": {
        "colab": {
          "base_uri": "https://localhost:8080/"
        },
        "id": "4CWvveoXNVlh",
        "outputId": "7f4e7928-0aa1-4091-c90c-337a8610bf91"
      },
      "execution_count": 27,
      "outputs": [
        {
          "output_type": "stream",
          "name": "stdout",
          "text": [
            "Use greedy by value to fill knapsack of size 20\n",
            "Total value of items taken is 200.0\n",
            "    <computer, 200, 20>\n",
            "\n",
            "Use greedy by weight to fill knapsack of size 20\n",
            "Total value of items taken is 170.0\n",
            "    <book, 10, 1>\n",
            "    <vase, 50, 2>\n",
            "    <radio, 20, 4>\n",
            "    <painting, 90, 9>\n",
            "\n",
            "Use greedy by density to fill knapsack of size 20\n",
            "Total value of items taken is 255.0\n",
            "    <vase, 50, 2>\n",
            "    <clock, 175, 10>\n",
            "    <book, 10, 1>\n",
            "    <radio, 20, 4>\n"
          ]
        }
      ]
    },
    {
      "cell_type": "markdown",
      "source": [
        "This prints the total value and items selected for each strategy (by value, by weight, and by density) so students can compare the outcomes."
      ],
      "metadata": {
        "id": "Bn1b_y1sPRYb"
      }
    },
    {
      "cell_type": "code",
      "source": [
        "import ipywidgets as widgets\n",
        "from IPython.display import display, clear_output\n",
        "import matplotlib.pyplot as plt"
      ],
      "metadata": {
        "id": "djPeQbHxNXNg"
      },
      "execution_count": 28,
      "outputs": []
    },
    {
      "cell_type": "code",
      "source": [
        "def plot_knapsack(items, max_weight, key_function):\n",
        "    \"\"\"Run the greedy algorithm and visualize the results.\"\"\"\n",
        "    taken, total_value = greedy(items, max_weight, key_function)\n",
        "\n",
        "    fig, ax = plt.subplots(figsize=(10, 6))\n",
        "    y_pos = range(len(taken))\n",
        "\n",
        "    # Plot each item in the knapsack\n",
        "    for i, item in enumerate(taken):\n",
        "        ax.barh(i, item.get_weight(), color='b')\n",
        "        ax.text(item.get_weight() / 2, i, f'{item.get_name()}', color='w', ha='center', va='center', fontsize=12)\n",
        "\n",
        "    ax.set_yticks(y_pos)\n",
        "    ax.set_yticklabels([f'Item {item.get_name()}' for item in taken])\n",
        "    ax.set_xlabel('Weight')\n",
        "    ax.set_title(f'Items in the Knapsack (Total Value: {total_value})')\n",
        "    ax.axvline(x=max_weight, color='r', linestyle='--', label='Knapsack Capacity')\n",
        "\n",
        "    plt.legend()\n",
        "    plt.show()\n",
        "\n",
        "# Create the widgets\n",
        "strategy_widget = widgets.Dropdown(\n",
        "    options={'By Value': value, 'By Weight (Inverse)': weight_inverse, 'By Density': density},\n",
        "    value=value,\n",
        "    description='Strategy:'\n",
        ")\n",
        "\n",
        "weight_widget = widgets.IntSlider(\n",
        "    value=20,\n",
        "    min=1,\n",
        "    max=50,\n",
        "    step=1,\n",
        "    description='Max Weight:',\n",
        "    continuous_update=False\n",
        ")\n",
        "\n",
        "output = widgets.Output()\n",
        "\n",
        "# Define the function to update the visualization based on widget inputs\n",
        "def update_plot(change):\n",
        "    with output:\n",
        "        clear_output(wait=True)\n",
        "        max_weight = weight_widget.value\n",
        "        key_function = strategy_widget.value\n",
        "        items = build_items()\n",
        "        plot_knapsack(items, max_weight, key_function)\n",
        "\n",
        "# Attach the update function to widget events\n",
        "strategy_widget.observe(update_plot, names='value')\n",
        "weight_widget.observe(update_plot, names='value')\n",
        "\n",
        "# Display the widgets and the initial plot\n",
        "display(strategy_widget, weight_widget, output)\n",
        "update_plot(None)"
      ],
      "metadata": {
        "colab": {
          "base_uri": "https://localhost:8080/",
          "height": 626,
          "referenced_widgets": [
            "6e11f199712e4d8d8d5d6559ea81874e",
            "bae3e8343d3344fc8dcaced16891d714",
            "e15070bd47f443f19b25c2db4c8e65ab",
            "1b643ef426b9493093e026cf93c2077d",
            "1665ddbbca7f4ff6838e798922d3efb7",
            "671acad4e0ce4206882cc323bdb18844",
            "06bc4b1910f54110900ed753c82fc469",
            "77fb467b847d4c34ab016ae4a67d06d8"
          ]
        },
        "id": "FNYx340cPw_t",
        "outputId": "a0615f0c-e829-4628-9f32-ea49be515e04"
      },
      "execution_count": 29,
      "outputs": [
        {
          "output_type": "display_data",
          "data": {
            "text/plain": [
              "Dropdown(description='Strategy:', options={'By Value': <function value at 0x7a106a5b05e0>, 'By Weight (Inverse…"
            ],
            "application/vnd.jupyter.widget-view+json": {
              "version_major": 2,
              "version_minor": 0,
              "model_id": "6e11f199712e4d8d8d5d6559ea81874e"
            }
          },
          "metadata": {}
        },
        {
          "output_type": "display_data",
          "data": {
            "text/plain": [
              "IntSlider(value=20, continuous_update=False, description='Max Weight:', max=50, min=1)"
            ],
            "application/vnd.jupyter.widget-view+json": {
              "version_major": 2,
              "version_minor": 0,
              "model_id": "1b643ef426b9493093e026cf93c2077d"
            }
          },
          "metadata": {}
        },
        {
          "output_type": "display_data",
          "data": {
            "text/plain": [
              "Output()"
            ],
            "application/vnd.jupyter.widget-view+json": {
              "version_major": 2,
              "version_minor": 0,
              "model_id": "06bc4b1910f54110900ed753c82fc469"
            }
          },
          "metadata": {}
        }
      ]
    }
  ]
}