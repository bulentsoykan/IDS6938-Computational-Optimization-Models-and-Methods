{
  "nbformat": 4,
  "nbformat_minor": 0,
  "metadata": {
    "colab": {
      "provenance": []
    },
    "kernelspec": {
      "name": "python3",
      "display_name": "Python 3"
    },
    "language_info": {
      "name": "python"
    }
  },
  "cells": [
    {
      "cell_type": "markdown",
      "source": [
        "#Knapsack Problem with Integer Programming"
      ],
      "metadata": {
        "id": "cO7e-z6jMcNI"
      }
    },
    {
      "cell_type": "markdown",
      "source": [
        "$$\n",
        "\\begin{align}\n",
        "    \\text{Maximize} \\quad \\sum_{i=1}^{n} v_i \\cdot x_i \\\\\n",
        "    \\text{s.t. } \\sum_{i=1}^{n} w_i \\cdot x_i \\leq W \\\\\n",
        "    x_i \\in {0, 1} \\quad \\forall \\; i = 1,2,...,n\n",
        "\\end{align}\n",
        "$$"
      ],
      "metadata": {
        "id": "9qJC4rYMA7Sc"
      }
    },
    {
      "cell_type": "code",
      "execution_count": 75,
      "metadata": {
        "id": "vsXPJAElAlgO"
      },
      "outputs": [],
      "source": [
        "# Python native modules\n",
        "import json\n",
        "\n",
        "# Third-party packages\n",
        "from scipy import optimize\n",
        "import numpy as np\n",
        "from scipy.optimize import milp"
      ]
    },
    {
      "cell_type": "code",
      "source": [
        "# Read data from JSON file\n",
        "with open('knapsack_data.json', 'r') as file:\n",
        "    data = json.load(file)"
      ],
      "metadata": {
        "id": "kPmIJ25kF6Yq"
      },
      "execution_count": 76,
      "outputs": []
    },
    {
      "cell_type": "code",
      "source": [
        "# Extracting weights and values from the data\n",
        "sizes = np.array([item['weight'] for item in data])\n",
        "values = np.array([item['value'] for item in data])\n",
        "items= np.array([item['item'] for item in data])"
      ],
      "metadata": {
        "id": "WWH8LYnTGEfj"
      },
      "execution_count": 77,
      "outputs": []
    },
    {
      "cell_type": "code",
      "source": [
        "# Bounds for decision variables: either 0 (not included) or 1 (included)\n",
        "bounds = optimize.Bounds(0, 1)  # 0 <= x_i <= 1\n",
        "\n",
        "integrality = np.full_like(values, True)  # x_i are integers"
      ],
      "metadata": {
        "id": "NLkVYfjQGPtC"
      },
      "execution_count": 78,
      "outputs": []
    },
    {
      "cell_type": "code",
      "source": [
        "# Knapsack capacity\n",
        "capacity = 10"
      ],
      "metadata": {
        "id": "mnTRya9BGHEq"
      },
      "execution_count": 79,
      "outputs": []
    },
    {
      "cell_type": "code",
      "source": [
        "constraints = optimize.LinearConstraint(A=sizes, lb=0, ub=capacity)"
      ],
      "metadata": {
        "id": "QXJuZXs2J15t"
      },
      "execution_count": 80,
      "outputs": []
    },
    {
      "cell_type": "code",
      "source": [
        "# Objective function coefficients (negative because linprog minimizes)\n",
        "res = milp(c=-values, constraints=constraints,\n",
        "           integrality=integrality, bounds=bounds)"
      ],
      "metadata": {
        "id": "qBRobeFGGJ4z"
      },
      "execution_count": 81,
      "outputs": []
    },
    {
      "cell_type": "code",
      "source": [
        "# Print results\n",
        "for i in range (len(res.x)):\n",
        "  print(\"Item \",items[i],\" \",res.x[i])"
      ],
      "metadata": {
        "colab": {
          "base_uri": "https://localhost:8080/"
        },
        "id": "tEpHnQl7GL6k",
        "outputId": "dc66a971-2b6e-4598-a0be-9a1c7a978e7f"
      },
      "execution_count": 82,
      "outputs": [
        {
          "output_type": "stream",
          "name": "stdout",
          "text": [
            "Item  1   1.0\n",
            "Item  2   1.0\n",
            "Item  3   1.0\n",
            "Item  4   0.0\n",
            "Item  5   1.0\n"
          ]
        }
      ]
    }
  ]
}