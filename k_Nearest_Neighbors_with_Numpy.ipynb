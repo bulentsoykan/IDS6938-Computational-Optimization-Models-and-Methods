{
  "nbformat": 4,
  "nbformat_minor": 0,
  "metadata": {
    "colab": {
      "provenance": [],
      "authorship_tag": "ABX9TyM4Mh+UDFldmVfwDs9pVpZc",
      "include_colab_link": true
    },
    "kernelspec": {
      "name": "python3",
      "display_name": "Python 3"
    },
    "language_info": {
      "name": "python"
    }
  },
  "cells": [
    {
      "cell_type": "markdown",
      "metadata": {
        "id": "view-in-github",
        "colab_type": "text"
      },
      "source": [
        "<a href=\"https://colab.research.google.com/github/bulentsoykan/IDS6938-Computational-Optimization-Models-and-Methods/blob/main/k_Nearest_Neighbors_with_Numpy.ipynb\" target=\"_parent\"><img src=\"https://colab.research.google.com/assets/colab-badge.svg\" alt=\"Open In Colab\"/></a>"
      ]
    },
    {
      "cell_type": "markdown",
      "source": [
        "# k-Nearest Neighbors with Numpy"
      ],
      "metadata": {
        "id": "K3eM9eEAGzGC"
      }
    },
    {
      "cell_type": "code",
      "execution_count": 4,
      "metadata": {
        "id": "zIpSTcDRGwGZ"
      },
      "outputs": [],
      "source": [
        "import numpy as np\n",
        "%matplotlib inline\n",
        "import matplotlib.pyplot as plt\n",
        "import seaborn; seaborn.set()"
      ]
    },
    {
      "cell_type": "code",
      "source": [
        "rand = np.random.RandomState(42)"
      ],
      "metadata": {
        "id": "txxsko70HG1J"
      },
      "execution_count": 6,
      "outputs": []
    },
    {
      "cell_type": "code",
      "source": [
        "X = rand.rand(10,2)\n",
        "X"
      ],
      "metadata": {
        "colab": {
          "base_uri": "https://localhost:8080/"
        },
        "id": "3J92QNwRHsIf",
        "outputId": "388d88b3-5e16-44d3-d0a1-be022cc84115"
      },
      "execution_count": 8,
      "outputs": [
        {
          "output_type": "execute_result",
          "data": {
            "text/plain": [
              "array([[0.61185289, 0.13949386],\n",
              "       [0.29214465, 0.36636184],\n",
              "       [0.45606998, 0.78517596],\n",
              "       [0.19967378, 0.51423444],\n",
              "       [0.59241457, 0.04645041],\n",
              "       [0.60754485, 0.17052412],\n",
              "       [0.06505159, 0.94888554],\n",
              "       [0.96563203, 0.80839735],\n",
              "       [0.30461377, 0.09767211],\n",
              "       [0.68423303, 0.44015249]])"
            ]
          },
          "metadata": {},
          "execution_count": 8
        }
      ]
    },
    {
      "cell_type": "code",
      "source": [
        "plt.scatter(X[:,0], X[:,1], s=10)"
      ],
      "metadata": {
        "colab": {
          "base_uri": "https://localhost:8080/",
          "height": 451
        },
        "id": "-R-mIBKAH2Js",
        "outputId": "761255a1-eff3-499e-d61a-2d2da6b4ec2a"
      },
      "execution_count": 11,
      "outputs": [
        {
          "output_type": "execute_result",
          "data": {
            "text/plain": [
              "<matplotlib.collections.PathCollection at 0x7cd2fb0d4910>"
            ]
          },
          "metadata": {},
          "execution_count": 11
        },
        {
          "output_type": "display_data",
          "data": {
            "text/plain": [
              "<Figure size 640x480 with 1 Axes>"
            ],
            "image/png": "[encoded data removed]"
          },
          "metadata": {}
        }
      ]
    },
    {
      "cell_type": "markdown",
      "source": [
        "compute the distance between each pair of points"
      ],
      "metadata": {
        "id": "JSAaf4H4IXgb"
      }
    },
    {
      "cell_type": "code",
      "source": [
        "X[:, np.newaxis, :]"
      ],
      "metadata": {
        "colab": {
          "base_uri": "https://localhost:8080/"
        },
        "id": "ArFDKaFiI9b4",
        "outputId": "263109ae-d42c-46ad-f0b6-76be09f8ba6d"
      },
      "execution_count": 13,
      "outputs": [
        {
          "output_type": "execute_result",
          "data": {
            "text/plain": [
              "array([[[0.61185289, 0.13949386]],\n",
              "\n",
              "       [[0.29214465, 0.36636184]],\n",
              "\n",
              "       [[0.45606998, 0.78517596]],\n",
              "\n",
              "       [[0.19967378, 0.51423444]],\n",
              "\n",
              "       [[0.59241457, 0.04645041]],\n",
              "\n",
              "       [[0.60754485, 0.17052412]],\n",
              "\n",
              "       [[0.06505159, 0.94888554]],\n",
              "\n",
              "       [[0.96563203, 0.80839735]],\n",
              "\n",
              "       [[0.30461377, 0.09767211]],\n",
              "\n",
              "       [[0.68423303, 0.44015249]]])"
            ]
          },
          "metadata": {},
          "execution_count": 13
        }
      ]
    },
    {
      "cell_type": "code",
      "source": [
        "dist_sq = np.sum((X[:, np.newaxis, :] - X[np.newaxis, :, :])**2, axis=-1)"
      ],
      "metadata": {
        "id": "czZ_6WgDIInf"
      },
      "execution_count": 14,
      "outputs": []
    },
    {
      "cell_type": "code",
      "source": [
        "dist_sq"
      ],
      "metadata": {
        "colab": {
          "base_uri": "https://localhost:8080/"
        },
        "id": "sBdRTW0WJKkv",
        "outputId": "89d2122f-df35-4cb0-dbbe-c3f1c215a364"
      },
      "execution_count": 15,
      "outputs": [
        {
          "output_type": "execute_result",
          "data": {
            "text/plain": [
              "array([[0.00000000e+00, 1.53682444e-01, 4.41173690e-01, 3.10322121e-01,\n",
              "        9.03493172e-03, 9.81436457e-04, 9.54106550e-01, 5.72591554e-01,\n",
              "        9.61449388e-02, 9.56344971e-02],\n",
              "       [1.53682444e-01, 0.00000000e+00, 2.02276781e-01, 3.04171655e-02,\n",
              "        1.92505348e-01, 1.37829701e-01, 3.90905110e-01, 6.48980645e-01,\n",
              "        7.23496496e-02, 1.59178356e-01],\n",
              "       [4.41173690e-01, 2.02276781e-01, 0.00000000e+00, 1.39148321e-01,\n",
              "        5.64305282e-01, 4.00741517e-01, 1.79696208e-01, 2.60192714e-01,\n",
              "        4.95600525e-01, 1.71099567e-01],\n",
              "       [3.10322121e-01, 3.04171655e-02, 1.39148321e-01, 0.00000000e+00,\n",
              "        3.73067220e-01, 2.84495590e-01, 2.07044712e-01, 6.73223860e-01,\n",
              "        1.84536571e-01, 2.40285796e-01],\n",
              "       [9.03493172e-03, 1.92505348e-01, 5.64305282e-01, 3.73067220e-01,\n",
              "        0.00000000e+00, 1.56232112e-02, 1.09250086e+00, 7.19854408e-01,\n",
              "        8.54529630e-02, 1.63431958e-01],\n",
              "       [9.81436457e-04, 1.37829701e-01, 4.00741517e-01, 2.84495590e-01,\n",
              "        1.56232112e-02, 0.00000000e+00, 9.00145426e-01, 5.35108680e-01,\n",
              "        9.70746562e-02, 7.85805341e-02],\n",
              "       [9.54106550e-01, 3.90905110e-01, 1.79696208e-01, 2.07044712e-01,\n",
              "        1.09250086e+00, 9.00145426e-01, 0.00000000e+00, 8.30782060e-01,\n",
              "        7.81954328e-01, 6.42194957e-01],\n",
              "       [5.72591554e-01, 6.48980645e-01, 2.60192714e-01, 6.73223860e-01,\n",
              "        7.19854408e-01, 5.35108680e-01, 8.30782060e-01, 0.00000000e+00,\n",
              "        9.42075504e-01, 2.14789674e-01],\n",
              "       [9.61449388e-02, 7.23496496e-02, 4.95600525e-01, 1.84536571e-01,\n",
              "        8.54529630e-02, 9.70746562e-02, 7.81954328e-01, 9.42075504e-01,\n",
              "        0.00000000e+00, 2.61403591e-01],\n",
              "       [9.56344971e-02, 1.59178356e-01, 1.71099567e-01, 2.40285796e-01,\n",
              "        1.63431958e-01, 7.85805341e-02, 6.42194957e-01, 2.14789674e-01,\n",
              "        2.61403591e-01, 0.00000000e+00]])"
            ]
          },
          "metadata": {},
          "execution_count": 15
        }
      ]
    },
    {
      "cell_type": "code",
      "source": [
        "nearest = np.argsort(dist_sq, axis=1)\n",
        "print(nearest)"
      ],
      "metadata": {
        "colab": {
          "base_uri": "https://localhost:8080/"
        },
        "id": "8RRF957jJMpd",
        "outputId": "ff5b76c8-cdec-46fb-8227-624b9ae0167b"
      },
      "execution_count": 16,
      "outputs": [
        {
          "output_type": "stream",
          "name": "stdout",
          "text": [
            "[[0 5 4 9 8 1 3 2 7 6]\n",
            " [1 3 8 5 0 9 4 2 6 7]\n",
            " [2 3 9 6 1 7 5 0 8 4]\n",
            " [3 1 2 8 6 9 5 0 4 7]\n",
            " [4 0 5 8 9 1 3 2 7 6]\n",
            " [5 0 4 9 8 1 3 2 7 6]\n",
            " [6 2 3 1 9 8 7 5 0 4]\n",
            " [7 9 2 5 0 1 3 4 6 8]\n",
            " [8 1 4 0 5 3 9 2 6 7]\n",
            " [9 5 0 1 4 2 7 3 8 6]]\n"
          ]
        }
      ]
    },
    {
      "cell_type": "code",
      "source": [
        "K = 2\n",
        "nearest_partition = np.argpartition(dist_sq, K + 1, axis=1)"
      ],
      "metadata": {
        "id": "KRFkpTPLJ-EZ"
      },
      "execution_count": 17,
      "outputs": []
    },
    {
      "cell_type": "code",
      "source": [
        "plt.scatter(X[:, 0], X[:, 1], s=100)\n",
        "\n",
        "# draw lines from each point to its two nearest neighbors\n",
        "K = 2\n",
        "\n",
        "for i in range(X.shape[0]):\n",
        "    for j in nearest_partition[i, :K+1]:\n",
        "        # plot a line from X[i] to X[j]\n",
        "        # use some zip magic to make it happen:\n",
        "        plt.plot(*zip(X[j], X[i]), color='black')"
      ],
      "metadata": {
        "colab": {
          "base_uri": "https://localhost:8080/",
          "height": 434
        },
        "id": "sKLpKmmdKCSa",
        "outputId": "6a850f3d-319a-456b-8b72-4885558bb4ac"
      },
      "execution_count": 18,
      "outputs": [
        {
          "output_type": "display_data",
          "data": {
            "text/plain": [
              "<Figure size 640x480 with 1 Axes>"
            ],
            "image/png": "[encoded data removed]"
          },
          "metadata": {}
        }
      ]
    }
  ]
}